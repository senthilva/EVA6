{
  "nbformat": 4,
  "nbformat_minor": 0,
  "metadata": {
    "kernelspec": {
      "display_name": "Python 3",
      "language": "python",
      "name": "python3"
    },
    "language_info": {
      "codemirror_mode": {
        "name": "ipython",
        "version": 3
      },
      "file_extension": ".py",
      "mimetype": "text/x-python",
      "name": "python",
      "nbconvert_exporter": "python",
      "pygments_lexer": "ipython3",
      "version": "3.6.7"
    },
    "colab": {
      "name": "spatial_transformer_cifar.ipynb",
      "provenance": [],
      "collapsed_sections": []
    },
    "accelerator": "GPU",
    "widgets": {
      "application/vnd.jupyter.widget-state+json": {
        "308039a746144ca0afc60f1eaa19602a": {
          "model_module": "@jupyter-widgets/controls",
          "model_name": "HBoxModel",
          "state": {
            "_view_name": "HBoxView",
            "_dom_classes": [],
            "_model_name": "HBoxModel",
            "_view_module": "@jupyter-widgets/controls",
            "_model_module_version": "1.5.0",
            "_view_count": null,
            "_view_module_version": "1.5.0",
            "box_style": "",
            "layout": "IPY_MODEL_469feae92f004795867c00879b8b2af9",
            "_model_module": "@jupyter-widgets/controls",
            "children": [
              "IPY_MODEL_71aff8b564a843b7b547a2543dddbcce",
              "IPY_MODEL_b05b545e536c46348d6d22e98397236a"
            ]
          }
        },
        "469feae92f004795867c00879b8b2af9": {
          "model_module": "@jupyter-widgets/base",
          "model_name": "LayoutModel",
          "state": {
            "_view_name": "LayoutView",
            "grid_template_rows": null,
            "right": null,
            "justify_content": null,
            "_view_module": "@jupyter-widgets/base",
            "overflow": null,
            "_model_module_version": "1.2.0",
            "_view_count": null,
            "flex_flow": null,
            "width": null,
            "min_width": null,
            "border": null,
            "align_items": null,
            "bottom": null,
            "_model_module": "@jupyter-widgets/base",
            "top": null,
            "grid_column": null,
            "overflow_y": null,
            "overflow_x": null,
            "grid_auto_flow": null,
            "grid_area": null,
            "grid_template_columns": null,
            "flex": null,
            "_model_name": "LayoutModel",
            "justify_items": null,
            "grid_row": null,
            "max_height": null,
            "align_content": null,
            "visibility": null,
            "align_self": null,
            "height": null,
            "min_height": null,
            "padding": null,
            "grid_auto_rows": null,
            "grid_gap": null,
            "max_width": null,
            "order": null,
            "_view_module_version": "1.2.0",
            "grid_template_areas": null,
            "object_position": null,
            "object_fit": null,
            "grid_auto_columns": null,
            "margin": null,
            "display": null,
            "left": null
          }
        },
        "71aff8b564a843b7b547a2543dddbcce": {
          "model_module": "@jupyter-widgets/controls",
          "model_name": "FloatProgressModel",
          "state": {
            "_view_name": "ProgressView",
            "style": "IPY_MODEL_f72b195e076841ce94c9ccb60a915d04",
            "_dom_classes": [],
            "description": "",
            "_model_name": "FloatProgressModel",
            "bar_style": "success",
            "max": 170498071,
            "_view_module": "@jupyter-widgets/controls",
            "_model_module_version": "1.5.0",
            "value": 170498071,
            "_view_count": null,
            "_view_module_version": "1.5.0",
            "orientation": "horizontal",
            "min": 0,
            "description_tooltip": null,
            "_model_module": "@jupyter-widgets/controls",
            "layout": "IPY_MODEL_d8c645ce9fca473f8e43e9ce2d66e5ef"
          }
        },
        "b05b545e536c46348d6d22e98397236a": {
          "model_module": "@jupyter-widgets/controls",
          "model_name": "HTMLModel",
          "state": {
            "_view_name": "HTMLView",
            "style": "IPY_MODEL_67c0942fe9784ae78e056ecca1e31187",
            "_dom_classes": [],
            "description": "",
            "_model_name": "HTMLModel",
            "placeholder": "​",
            "_view_module": "@jupyter-widgets/controls",
            "_model_module_version": "1.5.0",
            "value": " 170499072/? [02:08&lt;00:00, 1325537.05it/s]",
            "_view_count": null,
            "_view_module_version": "1.5.0",
            "description_tooltip": null,
            "_model_module": "@jupyter-widgets/controls",
            "layout": "IPY_MODEL_54b3b9e0aa574811a645e3df27dd8a44"
          }
        },
        "f72b195e076841ce94c9ccb60a915d04": {
          "model_module": "@jupyter-widgets/controls",
          "model_name": "ProgressStyleModel",
          "state": {
            "_view_name": "StyleView",
            "_model_name": "ProgressStyleModel",
            "description_width": "initial",
            "_view_module": "@jupyter-widgets/base",
            "_model_module_version": "1.5.0",
            "_view_count": null,
            "_view_module_version": "1.2.0",
            "bar_color": null,
            "_model_module": "@jupyter-widgets/controls"
          }
        },
        "d8c645ce9fca473f8e43e9ce2d66e5ef": {
          "model_module": "@jupyter-widgets/base",
          "model_name": "LayoutModel",
          "state": {
            "_view_name": "LayoutView",
            "grid_template_rows": null,
            "right": null,
            "justify_content": null,
            "_view_module": "@jupyter-widgets/base",
            "overflow": null,
            "_model_module_version": "1.2.0",
            "_view_count": null,
            "flex_flow": null,
            "width": null,
            "min_width": null,
            "border": null,
            "align_items": null,
            "bottom": null,
            "_model_module": "@jupyter-widgets/base",
            "top": null,
            "grid_column": null,
            "overflow_y": null,
            "overflow_x": null,
            "grid_auto_flow": null,
            "grid_area": null,
            "grid_template_columns": null,
            "flex": null,
            "_model_name": "LayoutModel",
            "justify_items": null,
            "grid_row": null,
            "max_height": null,
            "align_content": null,
            "visibility": null,
            "align_self": null,
            "height": null,
            "min_height": null,
            "padding": null,
            "grid_auto_rows": null,
            "grid_gap": null,
            "max_width": null,
            "order": null,
            "_view_module_version": "1.2.0",
            "grid_template_areas": null,
            "object_position": null,
            "object_fit": null,
            "grid_auto_columns": null,
            "margin": null,
            "display": null,
            "left": null
          }
        },
        "67c0942fe9784ae78e056ecca1e31187": {
          "model_module": "@jupyter-widgets/controls",
          "model_name": "DescriptionStyleModel",
          "state": {
            "_view_name": "StyleView",
            "_model_name": "DescriptionStyleModel",
            "description_width": "",
            "_view_module": "@jupyter-widgets/base",
            "_model_module_version": "1.5.0",
            "_view_count": null,
            "_view_module_version": "1.2.0",
            "_model_module": "@jupyter-widgets/controls"
          }
        },
        "54b3b9e0aa574811a645e3df27dd8a44": {
          "model_module": "@jupyter-widgets/base",
          "model_name": "LayoutModel",
          "state": {
            "_view_name": "LayoutView",
            "grid_template_rows": null,
            "right": null,
            "justify_content": null,
            "_view_module": "@jupyter-widgets/base",
            "overflow": null,
            "_model_module_version": "1.2.0",
            "_view_count": null,
            "flex_flow": null,
            "width": null,
            "min_width": null,
            "border": null,
            "align_items": null,
            "bottom": null,
            "_model_module": "@jupyter-widgets/base",
            "top": null,
            "grid_column": null,
            "overflow_y": null,
            "overflow_x": null,
            "grid_auto_flow": null,
            "grid_area": null,
            "grid_template_columns": null,
            "flex": null,
            "_model_name": "LayoutModel",
            "justify_items": null,
            "grid_row": null,
            "max_height": null,
            "align_content": null,
            "visibility": null,
            "align_self": null,
            "height": null,
            "min_height": null,
            "padding": null,
            "grid_auto_rows": null,
            "grid_gap": null,
            "max_width": null,
            "order": null,
            "_view_module_version": "1.2.0",
            "grid_template_areas": null,
            "object_position": null,
            "object_fit": null,
            "grid_auto_columns": null,
            "margin": null,
            "display": null,
            "left": null
          }
        }
      }
    }
  },
  "cells": [
    {
      "cell_type": "markdown",
      "metadata": {
        "id": "HvGXLxvqgMac"
      },
      "source": [
        "# Spatial Transformer for CIFAR10\n",
        "\n",
        "The goal here is to implement the spatial transformer for CIFAR10\n",
        "\n",
        "\n",
        "\n",
        "## Reference \n",
        "\n",
        "https://brsoff.github.io/tutorials/intermediate/spatial_transformer_tutorial.html"
      ]
    },
    {
      "cell_type": "code",
      "metadata": {
        "id": "Ek_SaElixYkx"
      },
      "source": [
        "%matplotlib inline"
      ],
      "execution_count": null,
      "outputs": []
    },
    {
      "cell_type": "code",
      "metadata": {
        "id": "4zV-nyTsxYk1"
      },
      "source": [
        "# License: BSD\n",
        "\n",
        "\n",
        "from __future__ import print_function\n",
        "import torch\n",
        "import torch.nn as nn\n",
        "import torch.nn.functional as F\n",
        "import torch.optim as optim\n",
        "import torchvision\n",
        "from torchvision import datasets, transforms\n",
        "import matplotlib.pyplot as plt\n",
        "import numpy as np\n",
        "\n",
        "plt.ion()   # interactive mode"
      ],
      "execution_count": null,
      "outputs": []
    },
    {
      "cell_type": "code",
      "metadata": {
        "id": "Hg2eCPilgab9"
      },
      "source": [
        ""
      ],
      "execution_count": null,
      "outputs": []
    },
    {
      "cell_type": "markdown",
      "metadata": {
        "id": "NmgaULW4xYk2"
      },
      "source": [
        "Loading the data\n",
        "----------------\n",
        "\n",
        "Loading the CIFAR dataset. Using a\n",
        "standard convolutional network augmented with a spatial transformer\n",
        "network.\n",
        "\n"
      ]
    },
    {
      "cell_type": "code",
      "metadata": {
        "colab": {
          "base_uri": "https://localhost:8080/",
          "height": 171,
          "referenced_widgets": [
            "308039a746144ca0afc60f1eaa19602a",
            "469feae92f004795867c00879b8b2af9",
            "71aff8b564a843b7b547a2543dddbcce",
            "b05b545e536c46348d6d22e98397236a",
            "f72b195e076841ce94c9ccb60a915d04",
            "d8c645ce9fca473f8e43e9ce2d66e5ef",
            "67c0942fe9784ae78e056ecca1e31187",
            "54b3b9e0aa574811a645e3df27dd8a44"
          ]
        },
        "id": "y7IEu2NhxYk2",
        "outputId": "b5b95320-bfe7-4ee1-a9c1-2d5d84aa339e"
      },
      "source": [
        "device = torch.device(\"cuda\" if torch.cuda.is_available() else \"cpu\")\n",
        "\n",
        "batch_size = 64\n",
        "num_workers = 4\n",
        "\n",
        "transform = transforms.Compose(\n",
        "    [transforms.ToTensor(),\n",
        "     transforms.Normalize((0.5, 0.5, 0.5), (0.5, 0.5, 0.5))])\n",
        "\n",
        "trainset = torchvision.datasets.CIFAR10(root='./data', train=True,\n",
        "                                        download=True, transform=transform)\n",
        "train_loader = torch.utils.data.DataLoader(trainset, batch_size=batch_size,\n",
        "                                          shuffle=True, num_workers=num_workers)\n",
        "\n",
        "testset = torchvision.datasets.CIFAR10(root='./data', train=False,\n",
        "                                       download=True, transform=transform)\n",
        "test_loader = torch.utils.data.DataLoader(testset, batch_size=batch_size,\n",
        "                                         shuffle=False, num_workers=num_workers)\n",
        "\n",
        "classes = ('plane', 'car', 'bird', 'cat',\n",
        "           'deer', 'dog', 'frog', 'horse', 'ship', 'truck')"
      ],
      "execution_count": null,
      "outputs": [
        {
          "output_type": "stream",
          "text": [
            "Downloading https://www.cs.toronto.edu/~kriz/cifar-10-python.tar.gz to ./data/cifar-10-python.tar.gz\n"
          ],
          "name": "stdout"
        },
        {
          "output_type": "display_data",
          "data": {
            "application/vnd.jupyter.widget-view+json": {
              "model_id": "308039a746144ca0afc60f1eaa19602a",
              "version_minor": 0,
              "version_major": 2
            },
            "text/plain": [
              "HBox(children=(FloatProgress(value=0.0, max=170498071.0), HTML(value='')))"
            ]
          },
          "metadata": {
            "tags": []
          }
        },
        {
          "output_type": "stream",
          "text": [
            "\n",
            "Extracting ./data/cifar-10-python.tar.gz to ./data\n"
          ],
          "name": "stdout"
        },
        {
          "output_type": "stream",
          "text": [
            "/usr/local/lib/python3.7/dist-packages/torch/utils/data/dataloader.py:481: UserWarning: This DataLoader will create 4 worker processes in total. Our suggested max number of worker in current system is 2, which is smaller than what this DataLoader is going to create. Please be aware that excessive worker creation might get DataLoader running slow or even freeze, lower the worker number to avoid potential slowness/freeze if necessary.\n",
            "  cpuset_checked))\n"
          ],
          "name": "stderr"
        },
        {
          "output_type": "stream",
          "text": [
            "Files already downloaded and verified\n"
          ],
          "name": "stdout"
        }
      ]
    },
    {
      "cell_type": "code",
      "metadata": {
        "colab": {
          "base_uri": "https://localhost:8080/"
        },
        "id": "n45MzfTyC7zd",
        "outputId": "ac5549e4-43b3-4169-ec52-61844ce80ce8"
      },
      "source": [
        "len(trainset)"
      ],
      "execution_count": null,
      "outputs": [
        {
          "output_type": "execute_result",
          "data": {
            "text/plain": [
              "50000"
            ]
          },
          "metadata": {
            "tags": []
          },
          "execution_count": 4
        }
      ]
    },
    {
      "cell_type": "markdown",
      "metadata": {
        "id": "Qv8RDxWqxYk2"
      },
      "source": [
        "Depicting spatial transformer networks\n",
        "--------------------------------------\n",
        "\n",
        "Spatial transformer networks boils down to three main components :\n",
        "\n",
        "-  The localization network is a regular CNN which regresses the\n",
        "   transformation parameters. The transformation is never learned\n",
        "   explicitly from this dataset, instead the network learns automatically\n",
        "   the spatial transformations that enhances the global accuracy.\n",
        "-  The grid generator generates a grid of coordinates in the input\n",
        "   image corresponding to each pixel from the output image.\n",
        "-  The sampler uses the parameters of the transformation and applies\n",
        "   it to the input image.\n",
        "\n",
        ".. figure:: /_static/img/stn/stn-arch.png\n",
        "\n",
        ".. Note::\n",
        "   We need the latest version of PyTorch that contains\n",
        "   affine_grid and grid_sample modules.\n",
        "\n",
        "\n"
      ]
    },
    {
      "cell_type": "code",
      "metadata": {
        "id": "MxoxN1UDxYk3"
      },
      "source": [
        "class Net(nn.Module):\n",
        "    def __init__(self):\n",
        "        super(Net, self).__init__()\n",
        "        self.conv1 = nn.Conv2d(3, 10, kernel_size=5)\n",
        "        self.conv2 = nn.Conv2d(10, 20, kernel_size=5)\n",
        "        self.conv2_drop = nn.Dropout2d()\n",
        "        self.fc1 = nn.Linear(500, 50)\n",
        "        self.fc2 = nn.Linear(50, 10)\n",
        "\n",
        "        # Spatial transformer localization-network\n",
        "        self.localization = nn.Sequential(\n",
        "            nn.Conv2d(3, 8, kernel_size=7),\n",
        "            nn.MaxPool2d(2, stride=2),\n",
        "            nn.ReLU(True),\n",
        "            nn.Conv2d(8, 10, kernel_size=5),\n",
        "            nn.MaxPool2d(2, stride=2),\n",
        "            nn.ReLU(True)\n",
        "        )\n",
        "\n",
        "        # Regressor for the 3 * 2 affine matrix\n",
        "        self.fc_loc = nn.Sequential(\n",
        "            nn.Linear(10 * 4 * 4, 32),\n",
        "            nn.ReLU(True),\n",
        "            nn.Linear(32, 3 * 2)\n",
        "        )\n",
        "\n",
        "        # Initialize the weights/bias with identity transformation\n",
        "        self.fc_loc[2].weight.data.zero_()\n",
        "        self.fc_loc[2].bias.data.copy_(torch.tensor([1, 0, 0, 0, 1, 0], dtype=torch.float))\n",
        "\n",
        "    # Spatial transformer network forward function\n",
        "    def stn(self, x):\n",
        "        xs = self.localization(x)\n",
        "        #print(f'xs size : {xs.size()}')\n",
        "        xs = xs.view(-1, 10 * 4*4)\n",
        "        theta = self.fc_loc(xs)\n",
        "        #print(f'x size : {x.size()}')\n",
        "        theta = theta.view(-1, 2, 3)\n",
        "        #print(f'theta size : {theta.size()}')\n",
        "        grid = F.affine_grid(theta, x.size())\n",
        "        x = F.grid_sample(x, grid)\n",
        "\n",
        "        return x\n",
        "\n",
        "    def forward(self, x):\n",
        "        # transform the input\n",
        "        x = self.stn(x)\n",
        "\n",
        "        # Perform the usual forward pass\n",
        "        x = F.relu(F.max_pool2d(self.conv1(x), 2))\n",
        "        x = F.relu(F.max_pool2d(self.conv2_drop(self.conv2(x)), 2))\n",
        "        #print(x.size())\n",
        "        x = x.view(-1, 500)\n",
        "        #print(x.size())\n",
        "        x = F.relu(self.fc1(x))\n",
        "        x = F.dropout(x, training=self.training)\n",
        "        x = self.fc2(x)\n",
        "        return F.log_softmax(x, dim=1)\n",
        "\n",
        "\n",
        "model = Net().to(device)"
      ],
      "execution_count": null,
      "outputs": []
    },
    {
      "cell_type": "markdown",
      "metadata": {
        "id": "fUOg2KiGxYk3"
      },
      "source": [
        "Training the model\n",
        "------------------\n",
        "\n",
        "Now, let's use the SGD algorithm to train the model. The network is\n",
        "learning the classification task in a supervised way. In the same time\n",
        "the model is learning STN automatically in an end-to-end fashion.\n",
        "\n"
      ]
    },
    {
      "cell_type": "code",
      "metadata": {
        "id": "0WhVlV3fxYk4"
      },
      "source": [
        "optimizer = optim.SGD(model.parameters(), lr=0.01)\n",
        "\n",
        "\n",
        "def train(epoch):\n",
        "    model.train()\n",
        "    for batch_idx, (data, target) in enumerate(train_loader):\n",
        "        data, target = data.to(device), target.to(device)\n",
        "\n",
        "        optimizer.zero_grad()\n",
        "        output = model(data)\n",
        "        #print(output.size(), target.size())\n",
        "        loss = F.nll_loss(output, target)\n",
        "        loss.backward()\n",
        "        optimizer.step()\n",
        "        if batch_idx % 500 == 0:\n",
        "            print('Train Epoch: {} [{}/{} ({:.0f}%)]\\tLoss: {:.6f}'.format(\n",
        "                epoch, batch_idx * len(data), len(train_loader.dataset),\n",
        "                100. * batch_idx / len(train_loader), loss.item()))\n",
        "\n",
        "def test():\n",
        "    with torch.no_grad():\n",
        "        model.eval()\n",
        "        test_loss = 0\n",
        "        correct = 0\n",
        "        for data, target in test_loader:\n",
        "            data, target = data.to(device), target.to(device)\n",
        "            output = model(data)\n",
        "\n",
        "            # sum up batch loss\n",
        "            test_loss += F.nll_loss(output, target, size_average=False).item()\n",
        "            # get the index of the max log-probability\n",
        "            pred = output.max(1, keepdim=True)[1]\n",
        "            correct += pred.eq(target.view_as(pred)).sum().item()\n",
        "\n",
        "        test_loss /= len(test_loader.dataset)\n",
        "        print('\\nTest set: Average loss: {:.4f}, Accuracy: {}/{} ({:.0f}%)\\n'\n",
        "              .format(test_loss, correct, len(test_loader.dataset),\n",
        "                      100. * correct / len(test_loader.dataset)))"
      ],
      "execution_count": null,
      "outputs": []
    },
    {
      "cell_type": "markdown",
      "metadata": {
        "id": "QSOS_fECxYk5"
      },
      "source": [
        "Visualizing the STN results\n",
        "---------------------------\n",
        "\n",
        "Now, we will inspect the results of our learned visual attention\n",
        "mechanism.\n",
        "\n",
        "We define a small helper function in order to visualize the\n",
        "transformations while training.\n",
        "\n"
      ]
    },
    {
      "cell_type": "code",
      "metadata": {
        "colab": {
          "base_uri": "https://localhost:8080/",
          "height": 1000
        },
        "id": "2EDju3SPxYk5",
        "outputId": "672d6cc3-6a38-4f15-fe9c-726ffd331b4e"
      },
      "source": [
        "def convert_image_np(inp):\n",
        "    \"\"\"Convert a Tensor to numpy image.\"\"\"\n",
        "    inp = inp.numpy().transpose((1, 2, 0))\n",
        "    mean = np.array([0.485, 0.456, 0.406])\n",
        "    std = np.array([0.229, 0.224, 0.225])\n",
        "    inp = std * inp + mean\n",
        "    inp = np.clip(inp, 0, 1)\n",
        "    return inp\n",
        "\n",
        "# We want to visualize the output of the spatial transformers layer\n",
        "# after the training, we visualize a batch of input images and\n",
        "# the corresponding transformed batch using STN.\n",
        "\n",
        "\n",
        "def visualize_stn():\n",
        "    with torch.no_grad():\n",
        "        # Get a batch of training data\n",
        "        data = next(iter(test_loader))[0].to(device)\n",
        "\n",
        "        input_tensor = data.cpu()\n",
        "        transformed_input_tensor = model.stn(data).cpu()\n",
        "\n",
        "        in_grid = convert_image_np(\n",
        "            torchvision.utils.make_grid(input_tensor))\n",
        "\n",
        "        out_grid = convert_image_np(\n",
        "            torchvision.utils.make_grid(transformed_input_tensor))\n",
        "\n",
        "        # Plot the results side-by-side\n",
        "        f, axarr = plt.subplots(1, 2)\n",
        "        axarr[0].imshow(in_grid)\n",
        "        axarr[0].set_title('Dataset Images')\n",
        "\n",
        "        axarr[1].imshow(out_grid)\n",
        "        axarr[1].set_title('Transformed Images')\n",
        "\n",
        "for epoch in range(1, 50 + 1):\n",
        "    train(epoch)\n",
        "    test()\n",
        "\n",
        "# Visualize the STN transformation on some input batch\n",
        "visualize_stn()\n",
        "\n",
        "plt.ioff()\n",
        "plt.show()"
      ],
      "execution_count": null,
      "outputs": [
        {
          "output_type": "stream",
          "text": [
            "/usr/local/lib/python3.7/dist-packages/torch/utils/data/dataloader.py:481: UserWarning: This DataLoader will create 4 worker processes in total. Our suggested max number of worker in current system is 2, which is smaller than what this DataLoader is going to create. Please be aware that excessive worker creation might get DataLoader running slow or even freeze, lower the worker number to avoid potential slowness/freeze if necessary.\n",
            "  cpuset_checked))\n",
            "/usr/local/lib/python3.7/dist-packages/torch/nn/functional.py:718: UserWarning: Named tensors and all their associated APIs are an experimental feature and subject to change. Please do not use them for anything important until they are released as stable. (Triggered internally at  /pytorch/c10/core/TensorImpl.h:1156.)\n",
            "  return torch.max_pool2d(input, kernel_size, stride, padding, dilation, ceil_mode)\n",
            "/usr/local/lib/python3.7/dist-packages/torch/nn/functional.py:4044: UserWarning: Default grid_sample and affine_grid behavior has changed to align_corners=False since 1.3.0. Please specify align_corners=True if the old behavior is desired. See the documentation of grid_sample for details.\n",
            "  \"Default grid_sample and affine_grid behavior has changed \"\n",
            "/usr/local/lib/python3.7/dist-packages/torch/nn/functional.py:3982: UserWarning: Default grid_sample and affine_grid behavior has changed to align_corners=False since 1.3.0. Please specify align_corners=True if the old behavior is desired. See the documentation of grid_sample for details.\n",
            "  \"Default grid_sample and affine_grid behavior has changed \"\n"
          ],
          "name": "stderr"
        },
        {
          "output_type": "stream",
          "text": [
            "Train Epoch: 1 [0/50000 (0%)]\tLoss: 2.283560\n",
            "Train Epoch: 1 [32000/50000 (64%)]\tLoss: 2.213211\n"
          ],
          "name": "stdout"
        },
        {
          "output_type": "stream",
          "text": [
            "/usr/local/lib/python3.7/dist-packages/torch/nn/_reduction.py:42: UserWarning: size_average and reduce args will be deprecated, please use reduction='sum' instead.\n",
            "  warnings.warn(warning.format(ret))\n"
          ],
          "name": "stderr"
        },
        {
          "output_type": "stream",
          "text": [
            "\n",
            "Test set: Average loss: 2.1066, Accuracy: 2662/10000 (27%)\n",
            "\n",
            "Train Epoch: 2 [0/50000 (0%)]\tLoss: 2.243742\n",
            "Train Epoch: 2 [32000/50000 (64%)]\tLoss: 2.083368\n",
            "\n",
            "Test set: Average loss: 1.9186, Accuracy: 3292/10000 (33%)\n",
            "\n",
            "Train Epoch: 3 [0/50000 (0%)]\tLoss: 2.011009\n",
            "Train Epoch: 3 [32000/50000 (64%)]\tLoss: 1.870690\n",
            "\n",
            "Test set: Average loss: 1.8133, Accuracy: 3698/10000 (37%)\n",
            "\n",
            "Train Epoch: 4 [0/50000 (0%)]\tLoss: 1.881079\n",
            "Train Epoch: 4 [32000/50000 (64%)]\tLoss: 1.893529\n",
            "\n",
            "Test set: Average loss: 1.7157, Accuracy: 3936/10000 (39%)\n",
            "\n",
            "Train Epoch: 5 [0/50000 (0%)]\tLoss: 1.722593\n",
            "Train Epoch: 5 [32000/50000 (64%)]\tLoss: 1.820404\n",
            "\n",
            "Test set: Average loss: 1.6363, Accuracy: 4068/10000 (41%)\n",
            "\n",
            "Train Epoch: 6 [0/50000 (0%)]\tLoss: 1.775517\n",
            "Train Epoch: 6 [32000/50000 (64%)]\tLoss: 1.794123\n",
            "\n",
            "Test set: Average loss: 1.6019, Accuracy: 4265/10000 (43%)\n",
            "\n",
            "Train Epoch: 7 [0/50000 (0%)]\tLoss: 1.785279\n",
            "Train Epoch: 7 [32000/50000 (64%)]\tLoss: 1.690611\n",
            "\n",
            "Test set: Average loss: 1.5636, Accuracy: 4326/10000 (43%)\n",
            "\n",
            "Train Epoch: 8 [0/50000 (0%)]\tLoss: 1.571787\n",
            "Train Epoch: 8 [32000/50000 (64%)]\tLoss: 1.911530\n",
            "\n",
            "Test set: Average loss: 1.5438, Accuracy: 4477/10000 (45%)\n",
            "\n",
            "Train Epoch: 9 [0/50000 (0%)]\tLoss: 1.649011\n",
            "Train Epoch: 9 [32000/50000 (64%)]\tLoss: 1.737918\n",
            "\n",
            "Test set: Average loss: 1.5220, Accuracy: 4540/10000 (45%)\n",
            "\n",
            "Train Epoch: 10 [0/50000 (0%)]\tLoss: 1.793884\n",
            "Train Epoch: 10 [32000/50000 (64%)]\tLoss: 1.872865\n",
            "\n",
            "Test set: Average loss: 1.5169, Accuracy: 4582/10000 (46%)\n",
            "\n",
            "Train Epoch: 11 [0/50000 (0%)]\tLoss: 1.544499\n",
            "Train Epoch: 11 [32000/50000 (64%)]\tLoss: 1.504514\n",
            "\n",
            "Test set: Average loss: 1.5228, Accuracy: 4621/10000 (46%)\n",
            "\n",
            "Train Epoch: 12 [0/50000 (0%)]\tLoss: 1.665646\n",
            "Train Epoch: 12 [32000/50000 (64%)]\tLoss: 1.582601\n",
            "\n",
            "Test set: Average loss: 1.4685, Accuracy: 4673/10000 (47%)\n",
            "\n",
            "Train Epoch: 13 [0/50000 (0%)]\tLoss: 1.599882\n",
            "Train Epoch: 13 [32000/50000 (64%)]\tLoss: 1.573556\n",
            "\n",
            "Test set: Average loss: 1.4516, Accuracy: 4770/10000 (48%)\n",
            "\n",
            "Train Epoch: 14 [0/50000 (0%)]\tLoss: 1.845129\n",
            "Train Epoch: 14 [32000/50000 (64%)]\tLoss: 1.572244\n",
            "\n",
            "Test set: Average loss: 1.4487, Accuracy: 4800/10000 (48%)\n",
            "\n",
            "Train Epoch: 15 [0/50000 (0%)]\tLoss: 1.630089\n",
            "Train Epoch: 15 [32000/50000 (64%)]\tLoss: 1.669301\n",
            "\n",
            "Test set: Average loss: 1.4365, Accuracy: 4841/10000 (48%)\n",
            "\n",
            "Train Epoch: 16 [0/50000 (0%)]\tLoss: 1.593873\n",
            "Train Epoch: 16 [32000/50000 (64%)]\tLoss: 1.567650\n",
            "\n",
            "Test set: Average loss: 1.4162, Accuracy: 4948/10000 (49%)\n",
            "\n",
            "Train Epoch: 17 [0/50000 (0%)]\tLoss: 1.540712\n",
            "Train Epoch: 17 [32000/50000 (64%)]\tLoss: 1.514471\n",
            "\n",
            "Test set: Average loss: 1.4089, Accuracy: 4927/10000 (49%)\n",
            "\n",
            "Train Epoch: 18 [0/50000 (0%)]\tLoss: 1.541935\n",
            "Train Epoch: 18 [32000/50000 (64%)]\tLoss: 1.431668\n",
            "\n",
            "Test set: Average loss: 1.4034, Accuracy: 5050/10000 (50%)\n",
            "\n",
            "Train Epoch: 19 [0/50000 (0%)]\tLoss: 1.579468\n",
            "Train Epoch: 19 [32000/50000 (64%)]\tLoss: 1.614561\n",
            "\n",
            "Test set: Average loss: 1.3928, Accuracy: 5025/10000 (50%)\n",
            "\n",
            "Train Epoch: 20 [0/50000 (0%)]\tLoss: 1.729503\n",
            "Train Epoch: 20 [32000/50000 (64%)]\tLoss: 1.453787\n",
            "\n",
            "Test set: Average loss: 1.3662, Accuracy: 5024/10000 (50%)\n",
            "\n",
            "Train Epoch: 21 [0/50000 (0%)]\tLoss: 1.325983\n",
            "Train Epoch: 21 [32000/50000 (64%)]\tLoss: 1.470959\n",
            "\n",
            "Test set: Average loss: 1.3800, Accuracy: 5060/10000 (51%)\n",
            "\n",
            "Train Epoch: 22 [0/50000 (0%)]\tLoss: 1.564264\n",
            "Train Epoch: 22 [32000/50000 (64%)]\tLoss: 1.487486\n",
            "\n",
            "Test set: Average loss: 1.3891, Accuracy: 5047/10000 (50%)\n",
            "\n",
            "Train Epoch: 23 [0/50000 (0%)]\tLoss: 1.668020\n",
            "Train Epoch: 23 [32000/50000 (64%)]\tLoss: 1.603889\n",
            "\n",
            "Test set: Average loss: 1.3955, Accuracy: 5062/10000 (51%)\n",
            "\n",
            "Train Epoch: 24 [0/50000 (0%)]\tLoss: 1.461158\n",
            "Train Epoch: 24 [32000/50000 (64%)]\tLoss: 1.311243\n",
            "\n",
            "Test set: Average loss: 1.3468, Accuracy: 5304/10000 (53%)\n",
            "\n",
            "Train Epoch: 25 [0/50000 (0%)]\tLoss: 1.583642\n",
            "Train Epoch: 25 [32000/50000 (64%)]\tLoss: 1.621246\n",
            "\n",
            "Test set: Average loss: 1.3262, Accuracy: 5321/10000 (53%)\n",
            "\n",
            "Train Epoch: 26 [0/50000 (0%)]\tLoss: 1.597041\n",
            "Train Epoch: 26 [32000/50000 (64%)]\tLoss: 1.613701\n",
            "\n",
            "Test set: Average loss: 1.3190, Accuracy: 5240/10000 (52%)\n",
            "\n",
            "Train Epoch: 27 [0/50000 (0%)]\tLoss: 1.751663\n",
            "Train Epoch: 27 [32000/50000 (64%)]\tLoss: 1.290218\n",
            "\n",
            "Test set: Average loss: 1.3467, Accuracy: 5265/10000 (53%)\n",
            "\n",
            "Train Epoch: 28 [0/50000 (0%)]\tLoss: 1.675216\n",
            "Train Epoch: 28 [32000/50000 (64%)]\tLoss: 1.596299\n",
            "\n",
            "Test set: Average loss: 1.2914, Accuracy: 5409/10000 (54%)\n",
            "\n",
            "Train Epoch: 29 [0/50000 (0%)]\tLoss: 1.410681\n",
            "Train Epoch: 29 [32000/50000 (64%)]\tLoss: 1.519847\n",
            "\n",
            "Test set: Average loss: 1.3010, Accuracy: 5380/10000 (54%)\n",
            "\n",
            "Train Epoch: 30 [0/50000 (0%)]\tLoss: 1.456616\n",
            "Train Epoch: 30 [32000/50000 (64%)]\tLoss: 1.436046\n",
            "\n",
            "Test set: Average loss: 1.2753, Accuracy: 5475/10000 (55%)\n",
            "\n",
            "Train Epoch: 31 [0/50000 (0%)]\tLoss: 1.304710\n",
            "Train Epoch: 31 [32000/50000 (64%)]\tLoss: 1.397923\n",
            "\n",
            "Test set: Average loss: 1.2596, Accuracy: 5568/10000 (56%)\n",
            "\n",
            "Train Epoch: 32 [0/50000 (0%)]\tLoss: 1.509818\n",
            "Train Epoch: 32 [32000/50000 (64%)]\tLoss: 1.477103\n",
            "\n",
            "Test set: Average loss: 1.2810, Accuracy: 5511/10000 (55%)\n",
            "\n",
            "Train Epoch: 33 [0/50000 (0%)]\tLoss: 1.585972\n",
            "Train Epoch: 33 [32000/50000 (64%)]\tLoss: 1.478205\n",
            "\n",
            "Test set: Average loss: 1.3600, Accuracy: 5243/10000 (52%)\n",
            "\n",
            "Train Epoch: 34 [0/50000 (0%)]\tLoss: 1.711602\n",
            "Train Epoch: 34 [32000/50000 (64%)]\tLoss: 1.443586\n",
            "\n",
            "Test set: Average loss: 1.2901, Accuracy: 5394/10000 (54%)\n",
            "\n",
            "Train Epoch: 35 [0/50000 (0%)]\tLoss: 1.795575\n",
            "Train Epoch: 35 [32000/50000 (64%)]\tLoss: 1.331098\n",
            "\n",
            "Test set: Average loss: 1.2625, Accuracy: 5525/10000 (55%)\n",
            "\n",
            "Train Epoch: 36 [0/50000 (0%)]\tLoss: 1.498483\n",
            "Train Epoch: 36 [32000/50000 (64%)]\tLoss: 1.315819\n",
            "\n",
            "Test set: Average loss: 1.2984, Accuracy: 5419/10000 (54%)\n",
            "\n",
            "Train Epoch: 37 [0/50000 (0%)]\tLoss: 1.556057\n",
            "Train Epoch: 37 [32000/50000 (64%)]\tLoss: 1.239275\n",
            "\n",
            "Test set: Average loss: 1.2448, Accuracy: 5621/10000 (56%)\n",
            "\n",
            "Train Epoch: 38 [0/50000 (0%)]\tLoss: 1.323399\n",
            "Train Epoch: 38 [32000/50000 (64%)]\tLoss: 1.278013\n",
            "\n",
            "Test set: Average loss: 1.2276, Accuracy: 5638/10000 (56%)\n",
            "\n",
            "Train Epoch: 39 [0/50000 (0%)]\tLoss: 1.452869\n",
            "Train Epoch: 39 [32000/50000 (64%)]\tLoss: 1.292807\n",
            "\n",
            "Test set: Average loss: 1.2577, Accuracy: 5551/10000 (56%)\n",
            "\n",
            "Train Epoch: 40 [0/50000 (0%)]\tLoss: 1.443661\n",
            "Train Epoch: 40 [32000/50000 (64%)]\tLoss: 1.417369\n",
            "\n",
            "Test set: Average loss: 1.2171, Accuracy: 5746/10000 (57%)\n",
            "\n",
            "Train Epoch: 41 [0/50000 (0%)]\tLoss: 1.713758\n",
            "Train Epoch: 41 [32000/50000 (64%)]\tLoss: 1.471299\n",
            "\n",
            "Test set: Average loss: 1.2123, Accuracy: 5739/10000 (57%)\n",
            "\n",
            "Train Epoch: 42 [0/50000 (0%)]\tLoss: 1.624909\n",
            "Train Epoch: 42 [32000/50000 (64%)]\tLoss: 1.512395\n",
            "\n",
            "Test set: Average loss: 1.2380, Accuracy: 5667/10000 (57%)\n",
            "\n",
            "Train Epoch: 43 [0/50000 (0%)]\tLoss: 1.216347\n",
            "Train Epoch: 43 [32000/50000 (64%)]\tLoss: 1.284247\n",
            "\n",
            "Test set: Average loss: 1.2122, Accuracy: 5770/10000 (58%)\n",
            "\n",
            "Train Epoch: 44 [0/50000 (0%)]\tLoss: 1.310111\n",
            "Train Epoch: 44 [32000/50000 (64%)]\tLoss: 1.348832\n",
            "\n",
            "Test set: Average loss: 1.2134, Accuracy: 5797/10000 (58%)\n",
            "\n",
            "Train Epoch: 45 [0/50000 (0%)]\tLoss: 1.424465\n",
            "Train Epoch: 45 [32000/50000 (64%)]\tLoss: 1.409637\n",
            "\n",
            "Test set: Average loss: 1.2193, Accuracy: 5714/10000 (57%)\n",
            "\n",
            "Train Epoch: 46 [0/50000 (0%)]\tLoss: 1.316475\n",
            "Train Epoch: 46 [32000/50000 (64%)]\tLoss: 1.217960\n",
            "\n",
            "Test set: Average loss: 1.2435, Accuracy: 5561/10000 (56%)\n",
            "\n",
            "Train Epoch: 47 [0/50000 (0%)]\tLoss: 1.499499\n",
            "Train Epoch: 47 [32000/50000 (64%)]\tLoss: 1.209549\n",
            "\n",
            "Test set: Average loss: 1.1974, Accuracy: 5767/10000 (58%)\n",
            "\n",
            "Train Epoch: 48 [0/50000 (0%)]\tLoss: 1.357558\n",
            "Train Epoch: 48 [32000/50000 (64%)]\tLoss: 1.354312\n",
            "\n",
            "Test set: Average loss: 1.1835, Accuracy: 5840/10000 (58%)\n",
            "\n",
            "Train Epoch: 49 [0/50000 (0%)]\tLoss: 1.420272\n",
            "Train Epoch: 49 [32000/50000 (64%)]\tLoss: 1.380257\n",
            "\n",
            "Test set: Average loss: 1.2169, Accuracy: 5739/10000 (57%)\n",
            "\n",
            "Train Epoch: 50 [0/50000 (0%)]\tLoss: 1.487736\n",
            "Train Epoch: 50 [32000/50000 (64%)]\tLoss: 1.306191\n",
            "\n",
            "Test set: Average loss: 1.2250, Accuracy: 5693/10000 (57%)\n",
            "\n"
          ],
          "name": "stdout"
        },
        {
          "output_type": "display_data",
          "data": {
            "image/png": "[encoded data removed]",
            "text/plain": [
              "<Figure size 432x288 with 2 Axes>"
            ]
          },
          "metadata": {
            "tags": [],
            "needs_background": "light"
          }
        }
      ]
    }
  ]
}