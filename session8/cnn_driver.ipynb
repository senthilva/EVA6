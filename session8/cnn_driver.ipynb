{
  "nbformat": 4,
  "nbformat_minor": 0,
  "metadata": {
    "colab": {
      "name": "cnn_driver.ipynb",
      "provenance": [],
      "collapsed_sections": []
    },
    "kernelspec": {
      "name": "python3",
      "display_name": "Python 3"
    },
    "language_info": {
      "name": "python"
    },
    "accelerator": "GPU"
  },
  "cells": [
    {
      "cell_type": "markdown",
      "metadata": {
        "id": "4Wd2ZSmAasvF"
      },
      "source": [
        "# Clone the Deep Learning Template"
      ]
    },
    {
      "cell_type": "code",
      "metadata": {
        "id": "ceAs8Ds6AOk5"
      },
      "source": [
        "%matplotlib inline"
      ],
      "execution_count": null,
      "outputs": []
    },
    {
      "cell_type": "code",
      "metadata": {
        "colab": {
          "base_uri": "https://localhost:8080/"
        },
        "id": "QhBZceWOB7gk",
        "outputId": "ba9f2a83-e45c-4ddd-fca7-374bf98edb9e"
      },
      "source": [
        "!git clone https://github.com/senthilva/deeplearning_template.git"
      ],
      "execution_count": null,
      "outputs": [
        {
          "output_type": "stream",
          "text": [
            "Cloning into 'deeplearning_template'...\n",
            "remote: Enumerating objects: 106, done.\u001b[K\n",
            "remote: Counting objects: 100% (106/106), done.\u001b[K\n",
            "remote: Compressing objects: 100% (95/95), done.\u001b[K\n",
            "remote: Total 106 (delta 34), reused 0 (delta 0), pack-reused 0\u001b[K\n",
            "Receiving objects: 100% (106/106), 27.27 KiB | 507.00 KiB/s, done.\n",
            "Resolving deltas: 100% (34/34), done.\n"
          ],
          "name": "stdout"
        }
      ]
    },
    {
      "cell_type": "markdown",
      "metadata": {
        "id": "S5cenxK1ayFM"
      },
      "source": [
        "# Change Directory"
      ]
    },
    {
      "cell_type": "code",
      "metadata": {
        "colab": {
          "base_uri": "https://localhost:8080/"
        },
        "id": "Kj-9FtS3EKVB",
        "outputId": "299a5d7c-6b90-46f6-c801-09ede68e5f8e"
      },
      "source": [
        "%cd deeplearning_template"
      ],
      "execution_count": null,
      "outputs": [
        {
          "output_type": "stream",
          "text": [
            "/content/deeplearning_template\n"
          ],
          "name": "stdout"
        }
      ]
    },
    {
      "cell_type": "markdown",
      "metadata": {
        "id": "2r62b6RQa0fF"
      },
      "source": [
        "# Display folder contents"
      ]
    },
    {
      "cell_type": "code",
      "metadata": {
        "colab": {
          "base_uri": "https://localhost:8080/"
        },
        "id": "g-oRf8SNKvJT",
        "outputId": "bdeefbcf-705e-45ec-8153-3c2fa2d4f9a1"
      },
      "source": [
        "!ls"
      ],
      "execution_count": null,
      "outputs": [
        {
          "output_type": "stream",
          "text": [
            "main.py  models  utils.py\n"
          ],
          "name": "stdout"
        }
      ]
    },
    {
      "cell_type": "markdown",
      "metadata": {
        "id": "gHfesFMga6t_"
      },
      "source": [
        "## Add to system path"
      ]
    },
    {
      "cell_type": "code",
      "metadata": {
        "id": "_5Fb4dYjChiD"
      },
      "source": [
        "#%cd deeplearning_template\n",
        "import sys\n",
        "sys.path.insert(0,'/content/deeplearning_template')"
      ],
      "execution_count": null,
      "outputs": []
    },
    {
      "cell_type": "markdown",
      "metadata": {
        "id": "YWynaUoea9Rm"
      },
      "source": [
        "# Run the main program"
      ]
    },
    {
      "cell_type": "code",
      "metadata": {
        "colab": {
          "base_uri": "https://localhost:8080/"
        },
        "id": "qDTQk1ISDhdQ",
        "outputId": "e8e1965c-7a98-43d6-cf14-8eb1f613d7cf"
      },
      "source": [
        "!python main.py --no_of_epochs 1 --batch_size 128"
      ],
      "execution_count": null,
      "outputs": [
        {
          "output_type": "stream",
          "text": [
            "==> Preparing data..\n",
            "Downloading https://www.cs.toronto.edu/~kriz/cifar-10-python.tar.gz to ./data/cifar-10-python.tar.gz\n",
            "170499072it [00:03, 43661305.32it/s]                   \n",
            "Extracting ./data/cifar-10-python.tar.gz to ./data\n",
            "Files already downloaded and verified\n",
            "==> Building model..\n",
            "\n",
            "Epoch: 0\n",
            " [================================================================>]  Step: 520ms | Tot: 36s924ms | Loss: 1.792 | Acc: 34.262% (17131/50000) 391/391 \n",
            " [================================================================>]  Step: 78ms | Tot: 2s463ms | Loss: 1.506 | Acc: 44.490% (4449/10000) 79/79 \n",
            "Saving..\n",
            "\n",
            "********* Misclassified Images **************\n",
            "\n",
            "Files already downloaded and verified\n",
            "<Figure size 1500x2000 with 10 Axes>\n"
          ],
          "name": "stdout"
        }
      ]
    },
    {
      "cell_type": "code",
      "metadata": {
        "id": "V3olGAHJ7Hrt"
      },
      "source": [
        ""
      ],
      "execution_count": null,
      "outputs": []
    }
  ]
}