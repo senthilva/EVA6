{
  "nbformat": 4,
  "nbformat_minor": 0,
  "metadata": {
    "kernelspec": {
      "name": "python3",
      "display_name": "Python 3"
    },
    "language_info": {
      "codemirror_mode": {
        "name": "ipython",
        "version": 3
      },
      "file_extension": ".py",
      "mimetype": "text/x-python",
      "name": "python",
      "nbconvert_exporter": "python",
      "pygments_lexer": "ipython3",
      "version": "3.6.6"
    },
    "colab": {
      "name": "cifarv3.ipynb",
      "provenance": [],
      "collapsed_sections": []
    },
    "accelerator": "GPU"
  },
  "cells": [
    {
      "cell_type": "markdown",
      "metadata": {
        "id": "bdhgNkIjbsc2"
      },
      "source": [
        "#The goal here is to achieve 85% accuracy on the cifar 10 dataset using\n",
        "\n",
        "- Depthwise Separable Convolution\n",
        "- Dilated Convolution\n",
        "- Not using Max Pooling\n",
        "- Augmentation\n",
        "-- horizontal flip\n",
        "-- shiftScaleRotate\n",
        "-- coarseDropout"
      ]
    },
    {
      "cell_type": "code",
      "metadata": {
        "colab": {
          "base_uri": "https://localhost:8080/"
        },
        "id": "X-_ZoFzjC2MQ",
        "outputId": "7f5d610a-6493-4875-8b94-a52a2f5d0907"
      },
      "source": [
        "!pip install --upgrade --force-reinstall --no-deps albumentations"
      ],
      "execution_count": 1,
      "outputs": [
        {
          "output_type": "stream",
          "text": [
            "Collecting albumentations\n",
            "  Using cached https://files.pythonhosted.org/packages/b0/be/3db3cd8af771988748f69eace42047d5edebf01eaa7e1293f3b3f75f989e/albumentations-1.0.0-py3-none-any.whl\n",
            "Installing collected packages: albumentations\n",
            "  Found existing installation: albumentations 1.0.0\n",
            "    Uninstalling albumentations-1.0.0:\n",
            "      Successfully uninstalled albumentations-1.0.0\n",
            "Successfully installed albumentations-1.0.0\n"
          ],
          "name": "stdout"
        }
      ]
    },
    {
      "cell_type": "code",
      "metadata": {
        "id": "QVbdg0z4poCc"
      },
      "source": [
        "%matplotlib inline"
      ],
      "execution_count": 2,
      "outputs": []
    },
    {
      "cell_type": "markdown",
      "metadata": {
        "id": "fPogbueepoCh"
      },
      "source": [
        "\n",
        "Training a Classifier\n",
        "=====================\n",
        "\n",
        "This is it. You have seen how to define neural networks, compute loss and make\n",
        "updates to the weights of the network.\n",
        "\n",
        "Now you might be thinking,\n",
        "\n",
        "What about data?\n",
        "----------------\n",
        "\n",
        "Generally, when you have to deal with image, text, audio or video data,\n",
        "you can use standard python packages that load data into a numpy array.\n",
        "Then you can convert this array into a ``torch.*Tensor``.\n",
        "\n",
        "-  For images, packages such as Pillow, OpenCV are useful\n",
        "-  For audio, packages such as scipy and librosa\n",
        "-  For text, either raw Python or Cython based loading, or NLTK and\n",
        "   SpaCy are useful\n",
        "\n",
        "Specifically for vision, we have created a package called\n",
        "``torchvision``, that has data loaders for common datasets such as\n",
        "Imagenet, CIFAR10, MNIST, etc. and data transformers for images, viz.,\n",
        "``torchvision.datasets`` and ``torch.utils.data.DataLoader``.\n",
        "\n",
        "This provides a huge convenience and avoids writing boilerplate code.\n",
        "\n",
        "For this tutorial, we will use the CIFAR10 dataset.\n",
        "It has the classes: ‘airplane’, ‘automobile’, ‘bird’, ‘cat’, ‘deer’,\n",
        "‘dog’, ‘frog’, ‘horse’, ‘ship’, ‘truck’. The images in CIFAR-10 are of\n",
        "size 3x32x32, i.e. 3-channel color images of 32x32 pixels in size.\n",
        "\n",
        ".. figure:: /_static/img/cifar10.png\n",
        "   :alt: cifar10\n",
        "\n",
        "   cifar10\n",
        "\n",
        "\n",
        "Training an image classifier\n",
        "----------------------------\n",
        "\n",
        "We will do the following steps in order:\n",
        "\n",
        "1. Load and normalizing the CIFAR10 training and test datasets using\n",
        "   ``torchvision``\n",
        "2. Define a Convolution Neural Network\n",
        "3. Define a loss function\n",
        "4. Train the network on the training data\n",
        "5. Test the network on the test data\n",
        "\n",
        "1. Loading and normalizing CIFAR10\n",
        "^^^^^^^^^^^^^^^^^^^^^^^^^^^^^^^^^^\n",
        "\n",
        "Using ``torchvision``, it’s extremely easy to load CIFAR10.\n",
        "\n"
      ]
    },
    {
      "cell_type": "markdown",
      "metadata": {
        "id": "dPA5fiuJpu_B"
      },
      "source": [
        "# Imports"
      ]
    },
    {
      "cell_type": "code",
      "metadata": {
        "id": "-yVpodAMpoCi"
      },
      "source": [
        "import torch\n",
        "import torchvision\n",
        "import torchvision.transforms as transforms\n",
        "import albumentations as A\n",
        "from albumentations.pytorch import ToTensorV2"
      ],
      "execution_count": 3,
      "outputs": []
    },
    {
      "cell_type": "code",
      "metadata": {
        "colab": {
          "base_uri": "https://localhost:8080/"
        },
        "id": "lG0Laa7Nd4xO",
        "outputId": "4918fdfa-76b5-47a1-ff56-cc6b46d42a36"
      },
      "source": [
        "from google.colab import drive\n",
        "drive.mount('/content/drive')"
      ],
      "execution_count": 4,
      "outputs": [
        {
          "output_type": "stream",
          "text": [
            "Drive already mounted at /content/drive; to attempt to forcibly remount, call drive.mount(\"/content/drive\", force_remount=True).\n"
          ],
          "name": "stdout"
        }
      ]
    },
    {
      "cell_type": "code",
      "metadata": {
        "id": "TF8riH_Be9Tb"
      },
      "source": [
        "import sys\n",
        "sys.path.insert(0,'/content/drive')"
      ],
      "execution_count": 5,
      "outputs": []
    },
    {
      "cell_type": "code",
      "metadata": {
        "colab": {
          "base_uri": "https://localhost:8080/"
        },
        "id": "L6yq25uSfeZ1",
        "outputId": "cedff6ff-0145-4992-d4ac-2b44d82e7da1"
      },
      "source": [
        "%cd /content/drive/My\\ Drive\n",
        "from model import Net"
      ],
      "execution_count": 6,
      "outputs": [
        {
          "output_type": "stream",
          "text": [
            "/content/drive/My Drive\n"
          ],
          "name": "stdout"
        }
      ]
    },
    {
      "cell_type": "markdown",
      "metadata": {
        "id": "E697dGn9pw7_"
      },
      "source": [
        "# Custom Model"
      ]
    },
    {
      "cell_type": "code",
      "metadata": {
        "id": "CHMv5ATUhc3x"
      },
      "source": [
        "from model import Net "
      ],
      "execution_count": 7,
      "outputs": []
    },
    {
      "cell_type": "code",
      "metadata": {
        "id": "X93DXs01Knwe"
      },
      "source": [
        "class Cifar10SearchDataset(torchvision.datasets.CIFAR10):\n",
        "    def __init__(self, root=\"~/data/cifar10\", train=True, download=True, transform=None):\n",
        "        super().__init__(root=root, train=train, download=download, transform=transform)\n",
        "\n",
        "    def __getitem__(self, index):\n",
        "        image, label = self.data[index], self.targets[index]\n",
        "\n",
        "        if self.transform is not None:\n",
        "            transformed = self.transform(image=image)\n",
        "            image = transformed[\"image\"]\n",
        "\n",
        "        return image, label"
      ],
      "execution_count": 8,
      "outputs": []
    },
    {
      "cell_type": "markdown",
      "metadata": {
        "id": "5kjt4e2TpoCk"
      },
      "source": [
        "The output of torchvision datasets are PILImage images of range [0, 1].\n",
        "We transform them to Tensors of normalized range [-1, 1].\n",
        "\n"
      ]
    },
    {
      "cell_type": "markdown",
      "metadata": {
        "id": "9gxQgI5ep2gg"
      },
      "source": [
        "# Loading Dataset"
      ]
    },
    {
      "cell_type": "code",
      "metadata": {
        "id": "Pr0uUajVp0OQ"
      },
      "source": [
        "# Loading DataSet"
      ],
      "execution_count": 9,
      "outputs": []
    },
    {
      "cell_type": "code",
      "metadata": {
        "id": "D8Tjigo2poCl",
        "colab": {
          "base_uri": "https://localhost:8080/"
        },
        "outputId": "cc71836e-70ab-4053-e2d8-82a21e787bcb"
      },
      "source": [
        "SEED = 1\n",
        "\n",
        "# CUDA?\n",
        "cuda = torch.cuda.is_available()\n",
        "print(\"CUDA Available?\", cuda)\n",
        "\n",
        "# For reproducibility\n",
        "torch.manual_seed(SEED)\n",
        "\n",
        "if cuda:\n",
        "    torch.cuda.manual_seed(SEED)\n",
        "\n",
        "\n",
        "transform = A.Compose(\n",
        "    [\n",
        "        A.ShiftScaleRotate(shift_limit=0.05, scale_limit=0.05, rotate_limit=5, p=0.5),\n",
        "        A.HorizontalFlip(p=0.5),\n",
        "        A.CoarseDropout(max_holes = 1, max_height=12, max_width=12, min_holes = 1, min_height=1, min_width=1, fill_value=0.5, mask_fill_value = None),\n",
        "        A.Normalize((0.5, 0.5, 0.5), (0.5, 0.5, 0.5)),\n",
        "        ToTensorV2(),\n",
        "    ]\n",
        ")\n",
        "\n",
        "test_transform = A.Compose(\n",
        "    [\n",
        "        A.Normalize((0.5, 0.5, 0.5), (0.5, 0.5, 0.5)),\n",
        "        ToTensorV2(),\n",
        "    ]\n",
        ")\n",
        "\n",
        "'''\n",
        "transform = transforms.Compose(\n",
        "    [transforms.ToTensor(),\n",
        "     transforms.Normalize((0.5, 0.5, 0.5), (0.5, 0.5, 0.5))])\n",
        "\n",
        "trainset = torchvision.datasets.CIFAR10(root='./data', train=True,\n",
        "                                        download=True, transform=transform)\n",
        "trainloader = torch.utils.data.DataLoader(trainset, batch_size=4,\n",
        "                                          shuffle=True, num_workers=2)\n",
        "'''\n",
        "trainset = Cifar10SearchDataset(root='./data', train=True,\n",
        "                                        download=True, transform=transform)\n",
        "train_loader = torch.utils.data.DataLoader(trainset, batch_size=128,\n",
        "                                          shuffle=True, num_workers=2)\n",
        "\n",
        "testset = Cifar10SearchDataset(root='./data', train=False,\n",
        "                                       download=True,transform = test_transform)\n",
        "test_loader =torch.utils.data.DataLoader(testset, batch_size=128,\n",
        "                                         shuffle=False, num_workers=2)\n",
        "\n",
        "classes = ('plane', 'car', 'bird', 'cat',\n",
        "           'deer', 'dog', 'frog', 'horse', 'ship', 'truck')"
      ],
      "execution_count": 10,
      "outputs": [
        {
          "output_type": "stream",
          "text": [
            "CUDA Available? True\n",
            "Files already downloaded and verified\n",
            "Files already downloaded and verified\n"
          ],
          "name": "stdout"
        }
      ]
    },
    {
      "cell_type": "markdown",
      "metadata": {
        "id": "_cj433rtpoCn"
      },
      "source": [
        "Let us show some of the training images, for fun.\n",
        "\n"
      ]
    },
    {
      "cell_type": "code",
      "metadata": {
        "id": "daA7bADhpoCo",
        "colab": {
          "base_uri": "https://localhost:8080/",
          "height": 155
        },
        "outputId": "464364c6-d204-4aeb-de1a-573f896273f3"
      },
      "source": [
        "import matplotlib.pyplot as plt\n",
        "import numpy as np\n",
        "\n",
        "# functions to show an image\n",
        "\n",
        "\n",
        "def imshow(img):\n",
        "    img = img / 2 + 0.5     # unnormalize\n",
        "    npimg = img.numpy()\n",
        "    plt.imshow(np.transpose(npimg, (1, 2, 0)))\n",
        "\n",
        "\n",
        "# get some random training images\n",
        "dataiter = iter(train_loader)\n",
        "images, labels = dataiter.next()\n",
        "\n",
        "# show images\n",
        "imshow(torchvision.utils.make_grid(images[:4]))\n",
        "# print labels\n",
        "print(' '.join('%5s' % classes[labels[j]] for j in range(4)))"
      ],
      "execution_count": 11,
      "outputs": [
        {
          "output_type": "stream",
          "text": [
            " deer   car horse   dog\n"
          ],
          "name": "stdout"
        },
        {
          "output_type": "display_data",
          "data": {
            "image/png": "[encoded data removed]",
            "text/plain": [
              "<Figure size 432x288 with 1 Axes>"
            ]
          },
          "metadata": {
            "tags": [],
            "needs_background": "light"
          }
        }
      ]
    },
    {
      "cell_type": "markdown",
      "metadata": {
        "id": "28OpHA_LpoCq"
      },
      "source": [
        "2. Define a Convolution Neural Network\n",
        "^^^^^^^^^^^^^^^^^^^^^^^^^^^^^^^^^^^^^^\n",
        "Copy the neural network from the Neural Networks section before and modify it to\n",
        "take 3-channel images (instead of 1-channel images as it was defined).\n",
        "\n"
      ]
    },
    {
      "cell_type": "code",
      "metadata": {
        "id": "0jjLwLLQpoCr"
      },
      "source": [
        "net = Net()"
      ],
      "execution_count": 12,
      "outputs": []
    },
    {
      "cell_type": "code",
      "metadata": {
        "colab": {
          "base_uri": "https://localhost:8080/"
        },
        "id": "5Q_58FZs7MO6",
        "outputId": "c825ac87-597f-4cec-9b40-ecfa92438157"
      },
      "source": [
        "!pip install torchsummary\n",
        "from torchsummary import summary\n",
        "use_cuda = torch.cuda.is_available()\n",
        "device = torch.device(\"cuda\" if use_cuda else \"cpu\")\n",
        "print(device)\n",
        "model = Net().to(device)\n",
        "summary(model, input_size=(3, 32, 32))"
      ],
      "execution_count": 13,
      "outputs": [
        {
          "output_type": "stream",
          "text": [
            "Requirement already satisfied: torchsummary in /usr/local/lib/python3.7/dist-packages (1.5.1)\n",
            "cuda\n",
            "----------------------------------------------------------------\n",
            "        Layer (type)               Output Shape         Param #\n",
            "================================================================\n",
            "            Conv2d-1           [-1, 16, 32, 32]             432\n",
            "            Conv2d-2           [-1, 32, 32, 32]           4,608\n",
            "       BatchNorm2d-3           [-1, 32, 32, 32]              64\n",
            "              ReLU-4           [-1, 32, 32, 32]               0\n",
            "           Dropout-5           [-1, 32, 32, 32]               0\n",
            "            Conv2d-6           [-1, 32, 32, 32]              96\n",
            "            Conv2d-7           [-1, 64, 15, 15]          18,432\n",
            "            Conv2d-8          [-1, 128, 15, 15]          73,728\n",
            "       BatchNorm2d-9          [-1, 128, 15, 15]             256\n",
            "             ReLU-10          [-1, 128, 15, 15]               0\n",
            "          Dropout-11          [-1, 128, 15, 15]               0\n",
            "           Conv2d-12           [-1, 64, 11, 11]          73,728\n",
            "           Conv2d-13             [-1, 32, 9, 9]          18,432\n",
            "      BatchNorm2d-14             [-1, 32, 9, 9]              64\n",
            "             ReLU-15             [-1, 32, 9, 9]               0\n",
            "          Dropout-16             [-1, 32, 9, 9]               0\n",
            "           Conv2d-17             [-1, 32, 9, 9]             320\n",
            "           Conv2d-18             [-1, 16, 9, 9]             528\n",
            "      BatchNorm2d-19             [-1, 16, 9, 9]              32\n",
            "             ReLU-20             [-1, 16, 9, 9]               0\n",
            "          Dropout-21             [-1, 16, 9, 9]               0\n",
            "        AvgPool2d-22             [-1, 16, 1, 1]               0\n",
            "           Conv2d-23             [-1, 10, 1, 1]             160\n",
            "================================================================\n",
            "Total params: 190,880\n",
            "Trainable params: 190,880\n",
            "Non-trainable params: 0\n",
            "----------------------------------------------------------------\n",
            "Input size (MB): 0.01\n",
            "Forward/backward pass size (MB): 2.56\n",
            "Params size (MB): 0.73\n",
            "Estimated Total Size (MB): 3.30\n",
            "----------------------------------------------------------------\n"
          ],
          "name": "stdout"
        }
      ]
    },
    {
      "cell_type": "markdown",
      "metadata": {
        "id": "Wdw2NNCUpoCu"
      },
      "source": [
        "3. Define a Loss function and optimizer\n",
        "^^^^^^^^^^^^^^^^^^^^^^^^^^^^^^^^^^^^^^^\n",
        "Let's use a Classification Cross-Entropy loss and SGD with momentum.\n",
        "\n"
      ]
    },
    {
      "cell_type": "code",
      "metadata": {
        "id": "M4xBbDROpoCv"
      },
      "source": [
        "import torch.nn as nn\n",
        "import torch.optim as optim\n",
        "\n",
        "criterion = nn.CrossEntropyLoss()\n",
        "optimizer = optim.SGD(net.parameters(), lr=0.001, momentum=0.9)"
      ],
      "execution_count": 14,
      "outputs": []
    },
    {
      "cell_type": "markdown",
      "metadata": {
        "id": "O-odOrhdpoC2"
      },
      "source": [
        "4. Train the network\n",
        "^^^^^^^^^^^^^^^^^^^^\n",
        "\n",
        "This is when things start to get interesting.\n",
        "We simply have to loop over our data iterator, and feed the inputs to the\n",
        "network and optimize.\n",
        "\n"
      ]
    },
    {
      "cell_type": "code",
      "metadata": {
        "id": "3qceSxrXdG7G"
      },
      "source": [
        "\n",
        "train_losses = []\n",
        "test_losses = []\n",
        "train_acc = []\n",
        "test_acc = []"
      ],
      "execution_count": 15,
      "outputs": []
    },
    {
      "cell_type": "markdown",
      "metadata": {
        "id": "D1ekA_WUp_F0"
      },
      "source": [
        "# Training functions"
      ]
    },
    {
      "cell_type": "code",
      "metadata": {
        "id": "UspasJ7fp61B"
      },
      "source": [
        "#Training functions"
      ],
      "execution_count": 16,
      "outputs": []
    },
    {
      "cell_type": "code",
      "metadata": {
        "id": "81agT7tDZijv"
      },
      "source": [
        "from tqdm import tqdm\n",
        "\n",
        "\n",
        "\n",
        "\n",
        "def train(model, device, train_loader, optimizer, epoch):\n",
        "  model.train()\n",
        "  pbar = tqdm(train_loader)\n",
        "  correct = 0\n",
        "  processed = 0\n",
        "  train_loss = 0\n",
        "  for batch_idx, (data, target) in enumerate(pbar):\n",
        "    # get samples\n",
        "    data, target = data.to(device), target.to(device)\n",
        "\n",
        "    # Init\n",
        "    optimizer.zero_grad()\n",
        "    # In PyTorch, we need to set the gradients to zero before starting to do backpropragation because PyTorch accumulates the gradients on subsequent backward passes. \n",
        "    # Because of this, when you start your training loop, ideally you should zero out the gradients so that you do the parameter update correctly.\n",
        "\n",
        "    # Predict\n",
        "    y_pred = model(data)\n",
        "\n",
        "    # Calculate loss\n",
        "    loss = criterion(y_pred, target)\n",
        "    #train_losses.append(loss)\n",
        "    train_loss = train_loss + loss\n",
        "\n",
        "    # Backpropagation\n",
        "    loss.backward()\n",
        "    optimizer.step()\n",
        "\n",
        "    # Update pbar-tqdm\n",
        "    \n",
        "    pred = y_pred.argmax(dim=1, keepdim=True)  # get the index of the max log-probability\n",
        "    correct += pred.eq(target.view_as(pred)).sum().item()\n",
        "    processed += len(data)\n",
        "\n",
        "    pbar.set_description(desc= f'Loss={loss.item()} Batch_id={batch_idx} Accuracy={100*correct/processed:0.2f}')\n",
        "  \n",
        "  train_loss /= len(train_loader.dataset)\n",
        "  train_acc.append(100*correct/processed)\n",
        "  train_losses.append(train_loss)\n",
        "  #train_losses.append(loss)\n",
        "\n",
        "    #return train_acc, train_losses\n",
        "\n",
        "def test(model, device, test_loader):\n",
        "    model.eval()\n",
        "    test_loss = 0\n",
        "    correct = 0\n",
        "    with torch.no_grad():\n",
        "        for data, target in test_loader:\n",
        "            data, target = data.to(device), target.to(device)\n",
        "            output = model(data)\n",
        "            test_loss += criterion(output, target)  # sum up batch loss\n",
        "            pred = output.argmax(dim=1, keepdim=True)  # get the index of the max log-probability\n",
        "            correct += pred.eq(target.view_as(pred)).sum().item()\n",
        "\n",
        "    test_loss /= len(test_loader.dataset)\n",
        "    test_losses.append(test_loss)\n",
        "\n",
        "    print('\\nTest set: Average loss: {:.4f}, Accuracy: {}/{} ({:.2f}%)\\n'.format(\n",
        "        test_loss, correct, len(test_loader.dataset),\n",
        "        100. * correct / len(test_loader.dataset)))\n",
        "    \n",
        "    test_acc.append(100. * correct / len(test_loader.dataset))"
      ],
      "execution_count": 17,
      "outputs": []
    },
    {
      "cell_type": "code",
      "metadata": {
        "id": "t9OldzG6Z6Xc"
      },
      "source": [
        "def display_misclassified_images(model):\n",
        "  print(\"\\n\\n\\n********* Misclassified Images **************\\n\\n\\n\")\n",
        "  model.eval()\n",
        "\n",
        "  # Create a test loader with batch size equal to test data length\n",
        "  #test = datasets.MNIST('./data', train=False, download=True, transform=test_transforms)\n",
        "  test = Cifar10SearchDataset(root='./data', train=False,\n",
        "                                       download=True, transform=transform)\n",
        "  # dataloader arguments - something you'll fetch these from cmdprmt\n",
        "  dataloader_args = dict(shuffle=True, batch_size=len(test), num_workers=4, pin_memory=True) if cuda else dict(shuffle=True, batch_size=len(test))\n",
        "  # test dataloader\n",
        "  test_loader = torch.utils.data.DataLoader(test, **dataloader_args)\n",
        "\n",
        "  with torch.no_grad():\n",
        "      for data, target in test_loader:\n",
        "          data, target = data.to(device), target.to(device)\n",
        "          output = model(data)\n",
        "          pred = output.argmax(dim=1, keepdim=True)  # get the index of the max log-probability\n",
        "          # Get the indexes of images that are incorrectly classified\n",
        "          indexes = (pred.view(-1,) != target.view(-1,)).nonzero()\n",
        "\n",
        "          # Plot the misclassified images\n",
        "          rows = np.ceil(len(indexes)/2)\n",
        "          fig = plt.figure(figsize=(15, rows*4))\n",
        "          for i, idx in enumerate(indexes[:10]):\n",
        "              ax = fig.add_subplot(rows, 5, i+1)\n",
        "              ax.imshow(data[idx].cpu().numpy().squeeze(), cmap='gray_r',dpi=100)\n",
        "              ax.set_title(f\"Target = {target[idx].item()} \\n Predicted = {pred[idx].item()}\")\n",
        "          \n",
        "          plt.show()"
      ],
      "execution_count": 18,
      "outputs": []
    },
    {
      "cell_type": "markdown",
      "metadata": {
        "id": "2afCyWiaqDyc"
      },
      "source": [
        "# Training Loop"
      ]
    },
    {
      "cell_type": "code",
      "metadata": {
        "id": "6JXI0vupZRvy",
        "colab": {
          "base_uri": "https://localhost:8080/"
        },
        "outputId": "7f8826ca-8fc0-4317-a166-9b6084e02665"
      },
      "source": [
        "#def train_test_display(no_of_epochs):\n",
        "EPOCHS = 50\n",
        "\n",
        "model =  Net().to(device)\n",
        "optimizer = optim.SGD(model.parameters(), lr=0.1, momentum=0.9)\n",
        "#learning_rate = 0.01\n",
        "#optimizer = torch.optim.Adam(model.parameters(), lr=learning_rate)\n",
        "#scheduler = StepLR(optimizer, step_size=6, gamma=0.1)\n",
        "# LR Scheduler\n",
        "lambda1 = lambda epoch: 0.85 ** epoch\n",
        "scheduler = optim.lr_scheduler.LambdaLR(optimizer, lr_lambda=lambda1)\n",
        "\n",
        "for epoch in range(1,EPOCHS +1):\n",
        "    print(\"EPOCH:\", epoch)\n",
        "    train(model, device, train_loader, optimizer, epoch)\n",
        "    optimizer.step()\n",
        "    test(model, device, test_loader)\n",
        "\n",
        "#display_misclassified_images(model)\n",
        "\n",
        "#return test_acc, test_losses,train_acc,train_losses"
      ],
      "execution_count": 19,
      "outputs": [
        {
          "output_type": "stream",
          "text": [
            "\r  0%|          | 0/391 [00:00<?, ?it/s]"
          ],
          "name": "stderr"
        },
        {
          "output_type": "stream",
          "text": [
            "EPOCH: 1\n"
          ],
          "name": "stdout"
        },
        {
          "output_type": "stream",
          "text": [
            "Loss=1.3616243600845337 Batch_id=390 Accuracy=38.37: 100%|██████████| 391/391 [00:11<00:00, 35.01it/s]\n",
            "  0%|          | 0/391 [00:00<?, ?it/s]"
          ],
          "name": "stderr"
        },
        {
          "output_type": "stream",
          "text": [
            "\n",
            "Test set: Average loss: 0.0120, Accuracy: 4589/10000 (45.89%)\n",
            "\n",
            "EPOCH: 2\n"
          ],
          "name": "stdout"
        },
        {
          "output_type": "stream",
          "text": [
            "Loss=1.2903900146484375 Batch_id=390 Accuracy=54.07: 100%|██████████| 391/391 [00:11<00:00, 35.21it/s]\n",
            "  0%|          | 0/391 [00:00<?, ?it/s]"
          ],
          "name": "stderr"
        },
        {
          "output_type": "stream",
          "text": [
            "\n",
            "Test set: Average loss: 0.0093, Accuracy: 5783/10000 (57.83%)\n",
            "\n",
            "EPOCH: 3\n"
          ],
          "name": "stdout"
        },
        {
          "output_type": "stream",
          "text": [
            "Loss=0.8459411859512329 Batch_id=390 Accuracy=61.11: 100%|██████████| 391/391 [00:11<00:00, 35.11it/s]\n",
            "  0%|          | 0/391 [00:00<?, ?it/s]"
          ],
          "name": "stderr"
        },
        {
          "output_type": "stream",
          "text": [
            "\n",
            "Test set: Average loss: 0.0088, Accuracy: 6167/10000 (61.67%)\n",
            "\n",
            "EPOCH: 4\n"
          ],
          "name": "stdout"
        },
        {
          "output_type": "stream",
          "text": [
            "Loss=1.0582202672958374 Batch_id=390 Accuracy=64.56: 100%|██████████| 391/391 [00:11<00:00, 35.01it/s]\n",
            "  0%|          | 0/391 [00:00<?, ?it/s]"
          ],
          "name": "stderr"
        },
        {
          "output_type": "stream",
          "text": [
            "\n",
            "Test set: Average loss: 0.0074, Accuracy: 6717/10000 (67.17%)\n",
            "\n",
            "EPOCH: 5\n"
          ],
          "name": "stdout"
        },
        {
          "output_type": "stream",
          "text": [
            "Loss=0.9144412279129028 Batch_id=390 Accuracy=67.79: 100%|██████████| 391/391 [00:11<00:00, 35.08it/s]\n",
            "  0%|          | 0/391 [00:00<?, ?it/s]"
          ],
          "name": "stderr"
        },
        {
          "output_type": "stream",
          "text": [
            "\n",
            "Test set: Average loss: 0.0065, Accuracy: 7132/10000 (71.32%)\n",
            "\n",
            "EPOCH: 6\n"
          ],
          "name": "stdout"
        },
        {
          "output_type": "stream",
          "text": [
            "Loss=0.875543475151062 Batch_id=390 Accuracy=69.60: 100%|██████████| 391/391 [00:11<00:00, 34.89it/s]\n",
            "  0%|          | 0/391 [00:00<?, ?it/s]"
          ],
          "name": "stderr"
        },
        {
          "output_type": "stream",
          "text": [
            "\n",
            "Test set: Average loss: 0.0068, Accuracy: 7086/10000 (70.86%)\n",
            "\n",
            "EPOCH: 7\n"
          ],
          "name": "stdout"
        },
        {
          "output_type": "stream",
          "text": [
            "Loss=0.9087523221969604 Batch_id=390 Accuracy=71.05: 100%|██████████| 391/391 [00:11<00:00, 35.19it/s]\n",
            "  0%|          | 0/391 [00:00<?, ?it/s]"
          ],
          "name": "stderr"
        },
        {
          "output_type": "stream",
          "text": [
            "\n",
            "Test set: Average loss: 0.0064, Accuracy: 7187/10000 (71.87%)\n",
            "\n",
            "EPOCH: 8\n"
          ],
          "name": "stdout"
        },
        {
          "output_type": "stream",
          "text": [
            "Loss=0.7223751544952393 Batch_id=390 Accuracy=72.35: 100%|██████████| 391/391 [00:11<00:00, 35.25it/s]\n",
            "  0%|          | 0/391 [00:00<?, ?it/s]"
          ],
          "name": "stderr"
        },
        {
          "output_type": "stream",
          "text": [
            "\n",
            "Test set: Average loss: 0.0060, Accuracy: 7426/10000 (74.26%)\n",
            "\n",
            "EPOCH: 9\n"
          ],
          "name": "stdout"
        },
        {
          "output_type": "stream",
          "text": [
            "Loss=0.6854380965232849 Batch_id=390 Accuracy=73.19: 100%|██████████| 391/391 [00:11<00:00, 34.66it/s]\n",
            "  0%|          | 0/391 [00:00<?, ?it/s]"
          ],
          "name": "stderr"
        },
        {
          "output_type": "stream",
          "text": [
            "\n",
            "Test set: Average loss: 0.0055, Accuracy: 7604/10000 (76.04%)\n",
            "\n",
            "EPOCH: 10\n"
          ],
          "name": "stdout"
        },
        {
          "output_type": "stream",
          "text": [
            "Loss=0.8621746897697449 Batch_id=390 Accuracy=74.53: 100%|██████████| 391/391 [00:11<00:00, 34.23it/s]\n",
            "  0%|          | 0/391 [00:00<?, ?it/s]"
          ],
          "name": "stderr"
        },
        {
          "output_type": "stream",
          "text": [
            "\n",
            "Test set: Average loss: 0.0053, Accuracy: 7679/10000 (76.79%)\n",
            "\n",
            "EPOCH: 11\n"
          ],
          "name": "stdout"
        },
        {
          "output_type": "stream",
          "text": [
            "Loss=0.5989867448806763 Batch_id=390 Accuracy=74.71: 100%|██████████| 391/391 [00:11<00:00, 35.44it/s]\n",
            "  0%|          | 0/391 [00:00<?, ?it/s]"
          ],
          "name": "stderr"
        },
        {
          "output_type": "stream",
          "text": [
            "\n",
            "Test set: Average loss: 0.0051, Accuracy: 7772/10000 (77.72%)\n",
            "\n",
            "EPOCH: 12\n"
          ],
          "name": "stdout"
        },
        {
          "output_type": "stream",
          "text": [
            "Loss=0.5655485391616821 Batch_id=390 Accuracy=76.12: 100%|██████████| 391/391 [00:11<00:00, 35.44it/s]\n",
            "  0%|          | 0/391 [00:00<?, ?it/s]"
          ],
          "name": "stderr"
        },
        {
          "output_type": "stream",
          "text": [
            "\n",
            "Test set: Average loss: 0.0055, Accuracy: 7666/10000 (76.66%)\n",
            "\n",
            "EPOCH: 13\n"
          ],
          "name": "stdout"
        },
        {
          "output_type": "stream",
          "text": [
            "Loss=0.7895005941390991 Batch_id=390 Accuracy=76.18: 100%|██████████| 391/391 [00:11<00:00, 35.42it/s]\n",
            "  0%|          | 0/391 [00:00<?, ?it/s]"
          ],
          "name": "stderr"
        },
        {
          "output_type": "stream",
          "text": [
            "\n",
            "Test set: Average loss: 0.0051, Accuracy: 7840/10000 (78.40%)\n",
            "\n",
            "EPOCH: 14\n"
          ],
          "name": "stdout"
        },
        {
          "output_type": "stream",
          "text": [
            "Loss=0.5183305144309998 Batch_id=390 Accuracy=77.13: 100%|██████████| 391/391 [00:11<00:00, 35.25it/s]\n",
            "  0%|          | 0/391 [00:00<?, ?it/s]"
          ],
          "name": "stderr"
        },
        {
          "output_type": "stream",
          "text": [
            "\n",
            "Test set: Average loss: 0.0048, Accuracy: 7899/10000 (78.99%)\n",
            "\n",
            "EPOCH: 15\n"
          ],
          "name": "stdout"
        },
        {
          "output_type": "stream",
          "text": [
            "Loss=0.5472713112831116 Batch_id=390 Accuracy=77.48: 100%|██████████| 391/391 [00:11<00:00, 35.05it/s]\n",
            "  0%|          | 0/391 [00:00<?, ?it/s]"
          ],
          "name": "stderr"
        },
        {
          "output_type": "stream",
          "text": [
            "\n",
            "Test set: Average loss: 0.0052, Accuracy: 7812/10000 (78.12%)\n",
            "\n",
            "EPOCH: 16\n"
          ],
          "name": "stdout"
        },
        {
          "output_type": "stream",
          "text": [
            "Loss=0.408999502658844 Batch_id=390 Accuracy=77.81: 100%|██████████| 391/391 [00:10<00:00, 35.56it/s]\n",
            "  0%|          | 0/391 [00:00<?, ?it/s]"
          ],
          "name": "stderr"
        },
        {
          "output_type": "stream",
          "text": [
            "\n",
            "Test set: Average loss: 0.0054, Accuracy: 7760/10000 (77.60%)\n",
            "\n",
            "EPOCH: 17\n"
          ],
          "name": "stdout"
        },
        {
          "output_type": "stream",
          "text": [
            "Loss=0.9425004124641418 Batch_id=390 Accuracy=78.56: 100%|██████████| 391/391 [00:11<00:00, 35.53it/s]\n",
            "  0%|          | 0/391 [00:00<?, ?it/s]"
          ],
          "name": "stderr"
        },
        {
          "output_type": "stream",
          "text": [
            "\n",
            "Test set: Average loss: 0.0050, Accuracy: 7852/10000 (78.52%)\n",
            "\n",
            "EPOCH: 18\n"
          ],
          "name": "stdout"
        },
        {
          "output_type": "stream",
          "text": [
            "Loss=0.7217897176742554 Batch_id=390 Accuracy=78.64: 100%|██████████| 391/391 [00:11<00:00, 35.29it/s]\n",
            "  0%|          | 0/391 [00:00<?, ?it/s]"
          ],
          "name": "stderr"
        },
        {
          "output_type": "stream",
          "text": [
            "\n",
            "Test set: Average loss: 0.0049, Accuracy: 7953/10000 (79.53%)\n",
            "\n",
            "EPOCH: 19\n"
          ],
          "name": "stdout"
        },
        {
          "output_type": "stream",
          "text": [
            "Loss=0.6526190042495728 Batch_id=390 Accuracy=79.04: 100%|██████████| 391/391 [00:11<00:00, 35.28it/s]\n",
            "  0%|          | 0/391 [00:00<?, ?it/s]"
          ],
          "name": "stderr"
        },
        {
          "output_type": "stream",
          "text": [
            "\n",
            "Test set: Average loss: 0.0048, Accuracy: 7927/10000 (79.27%)\n",
            "\n",
            "EPOCH: 20\n"
          ],
          "name": "stdout"
        },
        {
          "output_type": "stream",
          "text": [
            "Loss=0.4442247748374939 Batch_id=390 Accuracy=79.47: 100%|██████████| 391/391 [00:11<00:00, 35.48it/s]\n",
            "  0%|          | 0/391 [00:00<?, ?it/s]"
          ],
          "name": "stderr"
        },
        {
          "output_type": "stream",
          "text": [
            "\n",
            "Test set: Average loss: 0.0051, Accuracy: 7847/10000 (78.47%)\n",
            "\n",
            "EPOCH: 21\n"
          ],
          "name": "stdout"
        },
        {
          "output_type": "stream",
          "text": [
            "Loss=0.4218319356441498 Batch_id=390 Accuracy=79.86: 100%|██████████| 391/391 [00:11<00:00, 35.39it/s]\n",
            "  0%|          | 0/391 [00:00<?, ?it/s]"
          ],
          "name": "stderr"
        },
        {
          "output_type": "stream",
          "text": [
            "\n",
            "Test set: Average loss: 0.0045, Accuracy: 8072/10000 (80.72%)\n",
            "\n",
            "EPOCH: 22\n"
          ],
          "name": "stdout"
        },
        {
          "output_type": "stream",
          "text": [
            "Loss=0.6574229001998901 Batch_id=390 Accuracy=79.90: 100%|██████████| 391/391 [00:11<00:00, 35.28it/s]\n",
            "  0%|          | 0/391 [00:00<?, ?it/s]"
          ],
          "name": "stderr"
        },
        {
          "output_type": "stream",
          "text": [
            "\n",
            "Test set: Average loss: 0.0043, Accuracy: 8182/10000 (81.82%)\n",
            "\n",
            "EPOCH: 23\n"
          ],
          "name": "stdout"
        },
        {
          "output_type": "stream",
          "text": [
            "Loss=0.597236692905426 Batch_id=390 Accuracy=80.09: 100%|██████████| 391/391 [00:10<00:00, 35.78it/s]\n",
            "  0%|          | 0/391 [00:00<?, ?it/s]"
          ],
          "name": "stderr"
        },
        {
          "output_type": "stream",
          "text": [
            "\n",
            "Test set: Average loss: 0.0043, Accuracy: 8138/10000 (81.38%)\n",
            "\n",
            "EPOCH: 24\n"
          ],
          "name": "stdout"
        },
        {
          "output_type": "stream",
          "text": [
            "Loss=0.576559841632843 Batch_id=390 Accuracy=80.61: 100%|██████████| 391/391 [00:10<00:00, 35.87it/s]\n",
            "  0%|          | 0/391 [00:00<?, ?it/s]"
          ],
          "name": "stderr"
        },
        {
          "output_type": "stream",
          "text": [
            "\n",
            "Test set: Average loss: 0.0042, Accuracy: 8223/10000 (82.23%)\n",
            "\n",
            "EPOCH: 25\n"
          ],
          "name": "stdout"
        },
        {
          "output_type": "stream",
          "text": [
            "Loss=0.5489528775215149 Batch_id=390 Accuracy=80.48: 100%|██████████| 391/391 [00:11<00:00, 35.53it/s]\n",
            "  0%|          | 0/391 [00:00<?, ?it/s]"
          ],
          "name": "stderr"
        },
        {
          "output_type": "stream",
          "text": [
            "\n",
            "Test set: Average loss: 0.0045, Accuracy: 8057/10000 (80.57%)\n",
            "\n",
            "EPOCH: 26\n"
          ],
          "name": "stdout"
        },
        {
          "output_type": "stream",
          "text": [
            "Loss=0.6187418699264526 Batch_id=390 Accuracy=81.09: 100%|██████████| 391/391 [00:11<00:00, 35.52it/s]\n",
            "  0%|          | 0/391 [00:00<?, ?it/s]"
          ],
          "name": "stderr"
        },
        {
          "output_type": "stream",
          "text": [
            "\n",
            "Test set: Average loss: 0.0047, Accuracy: 8041/10000 (80.41%)\n",
            "\n",
            "EPOCH: 27\n"
          ],
          "name": "stdout"
        },
        {
          "output_type": "stream",
          "text": [
            "Loss=0.5735852122306824 Batch_id=390 Accuracy=81.39: 100%|██████████| 391/391 [00:10<00:00, 35.83it/s]\n",
            "  0%|          | 0/391 [00:00<?, ?it/s]"
          ],
          "name": "stderr"
        },
        {
          "output_type": "stream",
          "text": [
            "\n",
            "Test set: Average loss: 0.0042, Accuracy: 8164/10000 (81.64%)\n",
            "\n",
            "EPOCH: 28\n"
          ],
          "name": "stdout"
        },
        {
          "output_type": "stream",
          "text": [
            "Loss=0.5412876605987549 Batch_id=390 Accuracy=81.43: 100%|██████████| 391/391 [00:11<00:00, 35.54it/s]\n",
            "  0%|          | 0/391 [00:00<?, ?it/s]"
          ],
          "name": "stderr"
        },
        {
          "output_type": "stream",
          "text": [
            "\n",
            "Test set: Average loss: 0.0043, Accuracy: 8212/10000 (82.12%)\n",
            "\n",
            "EPOCH: 29\n"
          ],
          "name": "stdout"
        },
        {
          "output_type": "stream",
          "text": [
            "Loss=0.454658567905426 Batch_id=390 Accuracy=81.75: 100%|██████████| 391/391 [00:11<00:00, 35.36it/s]\n",
            "  0%|          | 0/391 [00:00<?, ?it/s]"
          ],
          "name": "stderr"
        },
        {
          "output_type": "stream",
          "text": [
            "\n",
            "Test set: Average loss: 0.0040, Accuracy: 8253/10000 (82.53%)\n",
            "\n",
            "EPOCH: 30\n"
          ],
          "name": "stdout"
        },
        {
          "output_type": "stream",
          "text": [
            "Loss=0.6937731504440308 Batch_id=390 Accuracy=81.86: 100%|██████████| 391/391 [00:11<00:00, 35.19it/s]\n",
            "  0%|          | 0/391 [00:00<?, ?it/s]"
          ],
          "name": "stderr"
        },
        {
          "output_type": "stream",
          "text": [
            "\n",
            "Test set: Average loss: 0.0040, Accuracy: 8294/10000 (82.94%)\n",
            "\n",
            "EPOCH: 31\n"
          ],
          "name": "stdout"
        },
        {
          "output_type": "stream",
          "text": [
            "Loss=0.5531013607978821 Batch_id=390 Accuracy=82.04: 100%|██████████| 391/391 [00:11<00:00, 35.54it/s]\n",
            "  0%|          | 0/391 [00:00<?, ?it/s]"
          ],
          "name": "stderr"
        },
        {
          "output_type": "stream",
          "text": [
            "\n",
            "Test set: Average loss: 0.0040, Accuracy: 8328/10000 (83.28%)\n",
            "\n",
            "EPOCH: 32\n"
          ],
          "name": "stdout"
        },
        {
          "output_type": "stream",
          "text": [
            "Loss=0.5086328983306885 Batch_id=390 Accuracy=82.22: 100%|██████████| 391/391 [00:10<00:00, 35.60it/s]\n",
            "  0%|          | 0/391 [00:00<?, ?it/s]"
          ],
          "name": "stderr"
        },
        {
          "output_type": "stream",
          "text": [
            "\n",
            "Test set: Average loss: 0.0040, Accuracy: 8340/10000 (83.40%)\n",
            "\n",
            "EPOCH: 33\n"
          ],
          "name": "stdout"
        },
        {
          "output_type": "stream",
          "text": [
            "Loss=0.4308083653450012 Batch_id=390 Accuracy=82.35: 100%|██████████| 391/391 [00:11<00:00, 34.98it/s]\n",
            "  0%|          | 0/391 [00:00<?, ?it/s]"
          ],
          "name": "stderr"
        },
        {
          "output_type": "stream",
          "text": [
            "\n",
            "Test set: Average loss: 0.0038, Accuracy: 8365/10000 (83.65%)\n",
            "\n",
            "EPOCH: 34\n"
          ],
          "name": "stdout"
        },
        {
          "output_type": "stream",
          "text": [
            "Loss=0.5718369483947754 Batch_id=390 Accuracy=82.58: 100%|██████████| 391/391 [00:11<00:00, 35.07it/s]\n",
            "  0%|          | 0/391 [00:00<?, ?it/s]"
          ],
          "name": "stderr"
        },
        {
          "output_type": "stream",
          "text": [
            "\n",
            "Test set: Average loss: 0.0037, Accuracy: 8423/10000 (84.23%)\n",
            "\n",
            "EPOCH: 35\n"
          ],
          "name": "stdout"
        },
        {
          "output_type": "stream",
          "text": [
            "Loss=0.411592960357666 Batch_id=390 Accuracy=82.73: 100%|██████████| 391/391 [00:11<00:00, 35.25it/s]\n",
            "  0%|          | 0/391 [00:00<?, ?it/s]"
          ],
          "name": "stderr"
        },
        {
          "output_type": "stream",
          "text": [
            "\n",
            "Test set: Average loss: 0.0037, Accuracy: 8429/10000 (84.29%)\n",
            "\n",
            "EPOCH: 36\n"
          ],
          "name": "stdout"
        },
        {
          "output_type": "stream",
          "text": [
            "Loss=0.5408097505569458 Batch_id=390 Accuracy=82.90: 100%|██████████| 391/391 [00:11<00:00, 35.54it/s]\n",
            "  0%|          | 0/391 [00:00<?, ?it/s]"
          ],
          "name": "stderr"
        },
        {
          "output_type": "stream",
          "text": [
            "\n",
            "Test set: Average loss: 0.0039, Accuracy: 8387/10000 (83.87%)\n",
            "\n",
            "EPOCH: 37\n"
          ],
          "name": "stdout"
        },
        {
          "output_type": "stream",
          "text": [
            "Loss=0.47667431831359863 Batch_id=390 Accuracy=83.01: 100%|██████████| 391/391 [00:11<00:00, 35.31it/s]\n",
            "  0%|          | 0/391 [00:00<?, ?it/s]"
          ],
          "name": "stderr"
        },
        {
          "output_type": "stream",
          "text": [
            "\n",
            "Test set: Average loss: 0.0037, Accuracy: 8411/10000 (84.11%)\n",
            "\n",
            "EPOCH: 38\n"
          ],
          "name": "stdout"
        },
        {
          "output_type": "stream",
          "text": [
            "Loss=0.5939132571220398 Batch_id=390 Accuracy=83.20: 100%|██████████| 391/391 [00:11<00:00, 35.41it/s]\n",
            "  0%|          | 0/391 [00:00<?, ?it/s]"
          ],
          "name": "stderr"
        },
        {
          "output_type": "stream",
          "text": [
            "\n",
            "Test set: Average loss: 0.0039, Accuracy: 8383/10000 (83.83%)\n",
            "\n",
            "EPOCH: 39\n"
          ],
          "name": "stdout"
        },
        {
          "output_type": "stream",
          "text": [
            "Loss=0.5559241771697998 Batch_id=390 Accuracy=83.17: 100%|██████████| 391/391 [00:11<00:00, 35.14it/s]\n",
            "  0%|          | 0/391 [00:00<?, ?it/s]"
          ],
          "name": "stderr"
        },
        {
          "output_type": "stream",
          "text": [
            "\n",
            "Test set: Average loss: 0.0036, Accuracy: 8477/10000 (84.77%)\n",
            "\n",
            "EPOCH: 40\n"
          ],
          "name": "stdout"
        },
        {
          "output_type": "stream",
          "text": [
            "Loss=0.4638153612613678 Batch_id=390 Accuracy=83.31: 100%|██████████| 391/391 [00:11<00:00, 34.43it/s]\n",
            "  0%|          | 0/391 [00:00<?, ?it/s]"
          ],
          "name": "stderr"
        },
        {
          "output_type": "stream",
          "text": [
            "\n",
            "Test set: Average loss: 0.0037, Accuracy: 8474/10000 (84.74%)\n",
            "\n",
            "EPOCH: 41\n"
          ],
          "name": "stdout"
        },
        {
          "output_type": "stream",
          "text": [
            "Loss=0.4561111330986023 Batch_id=390 Accuracy=83.57: 100%|██████████| 391/391 [00:11<00:00, 35.28it/s]\n",
            "  0%|          | 0/391 [00:00<?, ?it/s]"
          ],
          "name": "stderr"
        },
        {
          "output_type": "stream",
          "text": [
            "\n",
            "Test set: Average loss: 0.0041, Accuracy: 8332/10000 (83.32%)\n",
            "\n",
            "EPOCH: 42\n"
          ],
          "name": "stdout"
        },
        {
          "output_type": "stream",
          "text": [
            "Loss=0.3844226002693176 Batch_id=390 Accuracy=83.64: 100%|██████████| 391/391 [00:11<00:00, 34.98it/s]\n",
            "  0%|          | 0/391 [00:00<?, ?it/s]"
          ],
          "name": "stderr"
        },
        {
          "output_type": "stream",
          "text": [
            "\n",
            "Test set: Average loss: 0.0037, Accuracy: 8411/10000 (84.11%)\n",
            "\n",
            "EPOCH: 43\n"
          ],
          "name": "stdout"
        },
        {
          "output_type": "stream",
          "text": [
            "Loss=0.4064803719520569 Batch_id=390 Accuracy=83.81: 100%|██████████| 391/391 [00:11<00:00, 35.22it/s]\n",
            "  0%|          | 0/391 [00:00<?, ?it/s]"
          ],
          "name": "stderr"
        },
        {
          "output_type": "stream",
          "text": [
            "\n",
            "Test set: Average loss: 0.0040, Accuracy: 8334/10000 (83.34%)\n",
            "\n",
            "EPOCH: 44\n"
          ],
          "name": "stdout"
        },
        {
          "output_type": "stream",
          "text": [
            "Loss=0.3490757346153259 Batch_id=390 Accuracy=83.79: 100%|██████████| 391/391 [00:11<00:00, 35.19it/s]\n",
            "  0%|          | 0/391 [00:00<?, ?it/s]"
          ],
          "name": "stderr"
        },
        {
          "output_type": "stream",
          "text": [
            "\n",
            "Test set: Average loss: 0.0038, Accuracy: 8406/10000 (84.06%)\n",
            "\n",
            "EPOCH: 45\n"
          ],
          "name": "stdout"
        },
        {
          "output_type": "stream",
          "text": [
            "Loss=0.4174632430076599 Batch_id=390 Accuracy=84.22: 100%|██████████| 391/391 [00:11<00:00, 34.66it/s]\n",
            "  0%|          | 0/391 [00:00<?, ?it/s]"
          ],
          "name": "stderr"
        },
        {
          "output_type": "stream",
          "text": [
            "\n",
            "Test set: Average loss: 0.0036, Accuracy: 8445/10000 (84.45%)\n",
            "\n",
            "EPOCH: 46\n"
          ],
          "name": "stdout"
        },
        {
          "output_type": "stream",
          "text": [
            "Loss=0.47883373498916626 Batch_id=390 Accuracy=83.93: 100%|██████████| 391/391 [00:11<00:00, 35.05it/s]\n",
            "  0%|          | 0/391 [00:00<?, ?it/s]"
          ],
          "name": "stderr"
        },
        {
          "output_type": "stream",
          "text": [
            "\n",
            "Test set: Average loss: 0.0037, Accuracy: 8484/10000 (84.84%)\n",
            "\n",
            "EPOCH: 47\n"
          ],
          "name": "stdout"
        },
        {
          "output_type": "stream",
          "text": [
            "Loss=0.34756025671958923 Batch_id=390 Accuracy=84.21: 100%|██████████| 391/391 [00:11<00:00, 35.24it/s]\n",
            "  0%|          | 0/391 [00:00<?, ?it/s]"
          ],
          "name": "stderr"
        },
        {
          "output_type": "stream",
          "text": [
            "\n",
            "Test set: Average loss: 0.0035, Accuracy: 8520/10000 (85.20%)\n",
            "\n",
            "EPOCH: 48\n"
          ],
          "name": "stdout"
        },
        {
          "output_type": "stream",
          "text": [
            "Loss=0.39172428846359253 Batch_id=390 Accuracy=84.34: 100%|██████████| 391/391 [00:11<00:00, 35.26it/s]\n",
            "  0%|          | 0/391 [00:00<?, ?it/s]"
          ],
          "name": "stderr"
        },
        {
          "output_type": "stream",
          "text": [
            "\n",
            "Test set: Average loss: 0.0037, Accuracy: 8439/10000 (84.39%)\n",
            "\n",
            "EPOCH: 49\n"
          ],
          "name": "stdout"
        },
        {
          "output_type": "stream",
          "text": [
            "Loss=0.49151960015296936 Batch_id=390 Accuracy=84.19: 100%|██████████| 391/391 [00:11<00:00, 35.08it/s]\n",
            "  0%|          | 0/391 [00:00<?, ?it/s]"
          ],
          "name": "stderr"
        },
        {
          "output_type": "stream",
          "text": [
            "\n",
            "Test set: Average loss: 0.0038, Accuracy: 8399/10000 (83.99%)\n",
            "\n",
            "EPOCH: 50\n"
          ],
          "name": "stdout"
        },
        {
          "output_type": "stream",
          "text": [
            "Loss=0.4402956962585449 Batch_id=390 Accuracy=84.67: 100%|██████████| 391/391 [00:11<00:00, 34.63it/s]\n"
          ],
          "name": "stderr"
        },
        {
          "output_type": "stream",
          "text": [
            "\n",
            "Test set: Average loss: 0.0037, Accuracy: 8422/10000 (84.22%)\n",
            "\n"
          ],
          "name": "stdout"
        }
      ]
    },
    {
      "cell_type": "code",
      "metadata": {
        "id": "K40CJLfSnjuO"
      },
      "source": [
        "\n",
        "#test_acc_f, test_losses_f,train_acc_f,train_losses_f = train_test_display(EPOCHS)"
      ],
      "execution_count": 20,
      "outputs": []
    },
    {
      "cell_type": "code",
      "metadata": {
        "id": "t2IQrWwtAPkq",
        "colab": {
          "base_uri": "https://localhost:8080/",
          "height": 624
        },
        "outputId": "2d0838e0-da94-461b-dae1-9f068dbb48b6"
      },
      "source": [
        "%matplotlib inline\n",
        "import matplotlib.pyplot as plt\n",
        "\n",
        "epochs =[x for x in range(EPOCHS)]\n",
        "fig, axs = plt.subplots(1,2,figsize=(15,10))\n",
        "axs[0].plot(epochs,test_acc,'-r',label='test acc')\n",
        "axs[0].plot(epochs,train_acc,'-b',label='train acc')\n",
        "axs[0].legend(loc=\"upper right\")\n",
        "axs[0].set_title(\"Accuracy\")\n",
        "\n",
        "epochs =[x for x in range(EPOCHS)]\n",
        "axs[1].plot(epochs,test_losses,'r',label='test loss')\n",
        "axs[1].plot(epochs,train_losses,'b',label='train loss')\n",
        "axs[1].legend(loc=\"upper right\")\n",
        "axs[1].set_title(\"Loss\")"
      ],
      "execution_count": 21,
      "outputs": [
        {
          "output_type": "execute_result",
          "data": {
            "text/plain": [
              "Text(0.5, 1.0, 'Loss')"
            ]
          },
          "metadata": {
            "tags": []
          },
          "execution_count": 21
        },
        {
          "output_type": "display_data",
          "data": {
            "image/png": "[encoded data removed]",
            "text/plain": [
              "<Figure size 1080x720 with 2 Axes>"
            ]
          },
          "metadata": {
            "tags": [],
            "needs_background": "light"
          }
        }
      ]
    }
  ]
}